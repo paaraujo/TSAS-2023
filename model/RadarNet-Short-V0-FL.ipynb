{
 "cells": [
  {
   "cell_type": "markdown",
   "id": "c812adf6-d341-4c35-b9ae-0f0326b37b06",
   "metadata": {
    "tags": []
   },
   "source": [
    "## Importing Python Packages"
   ]
  },
  {
   "cell_type": "code",
   "execution_count": 1,
   "id": "f520d295-78db-4030-a8a7-fe371a055b82",
   "metadata": {
    "tags": []
   },
   "outputs": [
    {
     "name": "stderr",
     "output_type": "stream",
     "text": [
      "/tmp/ipykernel_2380446/1197695707.py:16: TqdmWarning: IProgress not found. Please update jupyter and ipywidgets. See https://ipywidgets.readthedocs.io/en/stable/user_install.html\n",
      "  from tqdm.autonotebook import tqdm;\n"
     ]
    }
   ],
   "source": [
    "import os\n",
    "import pathlib\n",
    "import time\n",
    "import random\n",
    "import torch\n",
    "import torch.nn as nn\n",
    "import torch.optim as optim\n",
    "import numpy as np\n",
    "import matplotlib.pyplot as plt\n",
    "\n",
    "from datetime import datetime\n",
    "from mpl_toolkits.axes_grid1 import make_axes_locatable\n",
    "from torch.utils.data import Dataset, DataLoader\n",
    "from torchvision import transforms\n",
    "from torchinfo import summary\n",
    "from tqdm.autonotebook import tqdm;\n",
    "\n",
    "plt.rcParams['figure.dpi'] = 150\n",
    "plt.rcParams.update({\n",
    "    \"text.usetex\": True,\n",
    "    \"font.family\": \"serif\"\n",
    "})"
   ]
  },
  {
   "cell_type": "code",
   "execution_count": 2,
   "id": "181139d4-4964-464e-abbc-14013c8a8ddf",
   "metadata": {
    "tags": []
   },
   "outputs": [],
   "source": [
    "seed = 17\n",
    "torch.manual_seed(seed);\n",
    "random.seed(seed)\n",
    "torch.backends.cudnn.benchmark = True"
   ]
  },
  {
   "cell_type": "code",
   "execution_count": 3,
   "id": "f237f02f-7021-42b8-8f43-e8b5081f91dd",
   "metadata": {
    "tags": []
   },
   "outputs": [
    {
     "data": {
      "text/plain": [
       "'2023-04-26-17-12-56-RadarNet-Short-V0-FL'"
      ]
     },
     "execution_count": 3,
     "metadata": {},
     "output_type": "execute_result"
    }
   ],
   "source": [
    "tag = datetime.now()\n",
    "tag = tag.strftime(\"%Y-%m-%d-%H-%M-%S\")\n",
    "tag += '-RadarNet-Short-V0-FL'\n",
    "tag"
   ]
  },
  {
   "cell_type": "markdown",
   "id": "cb3d31cb-fa0f-4cbc-bc20-5524569f5961",
   "metadata": {
    "jp-MarkdownHeadingCollapsed": true,
    "tags": []
   },
   "source": [
    "## RadarPCL Model"
   ]
  },
  {
   "cell_type": "code",
   "execution_count": 4,
   "id": "29e2f51f-4711-49b3-8eea-b3e4d1b565a8",
   "metadata": {
    "tags": []
   },
   "outputs": [],
   "source": [
    "class RadarPCL(nn.Module):\n",
    "    \n",
    "    def __init__(self,seq_len=4):\n",
    "        super(RadarPCL, self).__init__()\n",
    "        self.seq_len = seq_len\n",
    "        self.conv_top = nn.Sequential(\n",
    "            self._conv(4, 64, 7, 1, 0, 4, 1),\n",
    "            self._conv(64, 64, 7, 1, 0, 4, 1),\n",
    "            self._conv(64, 64, 7, 1, 0, 4, 1),\n",
    "            self._conv(64, 64, 7, 1, 0, 4, 1),\n",
    "        )\n",
    "        self.conv_front = nn.Sequential(\n",
    "            self._conv(4, 64, 7, 1, 0, 4, 1),\n",
    "            self._conv(64, 64, 7, 1, 0, 4, 1),\n",
    "            self._conv(64, 64, 7, 1, 0, 4, 1),\n",
    "            self._conv(64, 64, 7, 1, 0, 4, 1),\n",
    "        )\n",
    "        self.linear_top = nn.Sequential(\n",
    "            nn.Linear(4*4*64, 512, bias=False),\n",
    "            nn.BatchNorm1d(512),\n",
    "            nn.GELU(),\n",
    "            nn.Linear(512, 256, bias=False),\n",
    "            nn.BatchNorm1d(256),\n",
    "            nn.GELU(),\n",
    "            nn.Linear(256, 128, bias=False),\n",
    "            nn.BatchNorm1d(128),\n",
    "            nn.GELU(),\n",
    "            nn.Linear(128, 64, bias=False),\n",
    "            nn.BatchNorm1d(64),\n",
    "            nn.GELU(),\n",
    "            nn.Linear(64, 32, bias=False),\n",
    "            nn.BatchNorm1d(32),\n",
    "            nn.GELU(),\n",
    "            nn.Linear(32, 16, bias=False),\n",
    "            nn.BatchNorm1d(16),\n",
    "            nn.GELU(),\n",
    "            nn.Linear(16, 8, bias=False),\n",
    "            nn.BatchNorm1d(8),\n",
    "            nn.GELU(),\n",
    "            nn.Linear(8, 4, bias=False),\n",
    "            nn.BatchNorm1d(4),\n",
    "            nn.GELU(),\n",
    "            nn.Linear(4, 2, bias=False),\n",
    "            nn.BatchNorm1d(2),\n",
    "            nn.GELU(),\n",
    "            nn.Linear(2, 1, bias=False),\n",
    "            nn.BatchNorm1d(1),\n",
    "            nn.GELU()\n",
    "        )\n",
    "        self.linear_front = nn.Sequential(\n",
    "            nn.Linear(4*4*64, 512, bias=False),\n",
    "            nn.BatchNorm1d(512),\n",
    "            nn.GELU(),\n",
    "            nn.Linear(512, 256, bias=False),\n",
    "            nn.BatchNorm1d(256),\n",
    "            nn.GELU(),\n",
    "            nn.Linear(256, 128, bias=False),\n",
    "            nn.BatchNorm1d(128),\n",
    "            nn.GELU(),\n",
    "            nn.Linear(128, 64, bias=False),\n",
    "            nn.BatchNorm1d(64),\n",
    "            nn.GELU(),\n",
    "            nn.Linear(64, 32, bias=False),\n",
    "            nn.BatchNorm1d(32),\n",
    "            nn.GELU(),\n",
    "            nn.Linear(32, 16, bias=False),\n",
    "            nn.BatchNorm1d(16),\n",
    "            nn.GELU(),\n",
    "            nn.Linear(16, 8, bias=False),\n",
    "            nn.BatchNorm1d(8),\n",
    "            nn.GELU(),\n",
    "            nn.Linear(8, 4, bias=False),\n",
    "            nn.BatchNorm1d(4),\n",
    "            nn.GELU(),\n",
    "            nn.Linear(4, 2, bias=False),\n",
    "            nn.BatchNorm1d(2),\n",
    "            nn.GELU(),\n",
    "            nn.Linear(2, 1, bias=False),\n",
    "            nn.BatchNorm1d(1),\n",
    "            nn.GELU()\n",
    "        )\n",
    "        \n",
    "    def _conv(self, in_channel, out_channel, kernel_size, stride, padding, dilation, groups):\n",
    "        return nn.Sequential(\n",
    "            nn.Conv2d(in_channel, out_channel, kernel_size=kernel_size, stride=stride, padding=padding, dilation=dilation, groups=groups, bias=False),\n",
    "            nn.BatchNorm2d(out_channel),\n",
    "            nn.GELU()\n",
    "        )\n",
    "    \n",
    "    def forward(self, I_top, I_front):\n",
    "        batch_size = I_top.size(0)\n",
    "        # Top-View\n",
    "        x_top = self.conv_top(I_top)\n",
    "        x_top = x_top.view(batch_size, -1)\n",
    "        x_top = self.linear_top(x_top)\n",
    "        # Front-View\n",
    "        x_front = self.conv_front(I_front)\n",
    "        x_front = x_front.view(batch_size, -1)\n",
    "        x_front = self.linear_front(x_front)\n",
    "        # Adding speed components\n",
    "        x = x_top + x_front\n",
    "        return x"
   ]
  },
  {
   "cell_type": "code",
   "execution_count": 5,
   "id": "905f343f-5da9-4c57-be8b-dc403cfc9e11",
   "metadata": {
    "tags": []
   },
   "outputs": [],
   "source": [
    "seq_len = 1"
   ]
  },
  {
   "cell_type": "code",
   "execution_count": 6,
   "id": "c0c4c8d4-c252-4105-b273-f21086763dce",
   "metadata": {
    "tags": []
   },
   "outputs": [],
   "source": [
    "model = RadarPCL(seq_len=seq_len)"
   ]
  },
  {
   "cell_type": "code",
   "execution_count": 7,
   "id": "bed388f1-9769-4bb1-a2c6-81a3b9889744",
   "metadata": {
    "tags": []
   },
   "outputs": [
    {
     "name": "stderr",
     "output_type": "stream",
     "text": [
      "/home/20prmd/Documents/IROS2023/env/lib/python3.8/site-packages/torchinfo/torchinfo.py:477: UserWarning: TypedStorage is deprecated. It will be removed in the future and UntypedStorage will be the only storage class. This should only matter to you if you are using storages directly.  To access UntypedStorage directly, use tensor.untyped_storage() instead of tensor.storage()\n",
      "  action_fn=lambda data: sys.getsizeof(data.storage()),\n",
      "/home/20prmd/Documents/IROS2023/env/lib/python3.8/site-packages/torch/storage.py:665: UserWarning: TypedStorage is deprecated. It will be removed in the future and UntypedStorage will be the only storage class. This should only matter to you if you are using storages directly.  To access UntypedStorage directly, use tensor.untyped_storage() instead of tensor.storage()\n",
      "  return super().__sizeof__() + self.nbytes()\n"
     ]
    },
    {
     "data": {
      "text/plain": [
       "==========================================================================================\n",
       "Layer (type:depth-idx)                   Output Shape              Param #\n",
       "==========================================================================================\n",
       "RadarPCL                                 [1, 1]                    --\n",
       "├─Sequential: 1-1                        [1, 64, 4, 4]             --\n",
       "│    └─Sequential: 2-1                   [1, 64, 76, 76]           --\n",
       "│    │    └─Conv2d: 3-1                  [1, 64, 76, 76]           12,544\n",
       "│    │    └─BatchNorm2d: 3-2             [1, 64, 76, 76]           128\n",
       "│    │    └─GELU: 3-3                    [1, 64, 76, 76]           --\n",
       "│    └─Sequential: 2-2                   [1, 64, 52, 52]           --\n",
       "│    │    └─Conv2d: 3-4                  [1, 64, 52, 52]           200,704\n",
       "│    │    └─BatchNorm2d: 3-5             [1, 64, 52, 52]           128\n",
       "│    │    └─GELU: 3-6                    [1, 64, 52, 52]           --\n",
       "│    └─Sequential: 2-3                   [1, 64, 28, 28]           --\n",
       "│    │    └─Conv2d: 3-7                  [1, 64, 28, 28]           200,704\n",
       "│    │    └─BatchNorm2d: 3-8             [1, 64, 28, 28]           128\n",
       "│    │    └─GELU: 3-9                    [1, 64, 28, 28]           --\n",
       "│    └─Sequential: 2-4                   [1, 64, 4, 4]             --\n",
       "│    │    └─Conv2d: 3-10                 [1, 64, 4, 4]             200,704\n",
       "│    │    └─BatchNorm2d: 3-11            [1, 64, 4, 4]             128\n",
       "│    │    └─GELU: 3-12                   [1, 64, 4, 4]             --\n",
       "├─Sequential: 1-2                        [1, 1]                    --\n",
       "│    └─Linear: 2-5                       [1, 512]                  524,288\n",
       "│    └─BatchNorm1d: 2-6                  [1, 512]                  1,024\n",
       "│    └─GELU: 2-7                         [1, 512]                  --\n",
       "│    └─Linear: 2-8                       [1, 256]                  131,072\n",
       "│    └─BatchNorm1d: 2-9                  [1, 256]                  512\n",
       "│    └─GELU: 2-10                        [1, 256]                  --\n",
       "│    └─Linear: 2-11                      [1, 128]                  32,768\n",
       "│    └─BatchNorm1d: 2-12                 [1, 128]                  256\n",
       "│    └─GELU: 2-13                        [1, 128]                  --\n",
       "│    └─Linear: 2-14                      [1, 64]                   8,192\n",
       "│    └─BatchNorm1d: 2-15                 [1, 64]                   128\n",
       "│    └─GELU: 2-16                        [1, 64]                   --\n",
       "│    └─Linear: 2-17                      [1, 32]                   2,048\n",
       "│    └─BatchNorm1d: 2-18                 [1, 32]                   64\n",
       "│    └─GELU: 2-19                        [1, 32]                   --\n",
       "│    └─Linear: 2-20                      [1, 16]                   512\n",
       "│    └─BatchNorm1d: 2-21                 [1, 16]                   32\n",
       "│    └─GELU: 2-22                        [1, 16]                   --\n",
       "│    └─Linear: 2-23                      [1, 8]                    128\n",
       "│    └─BatchNorm1d: 2-24                 [1, 8]                    16\n",
       "│    └─GELU: 2-25                        [1, 8]                    --\n",
       "│    └─Linear: 2-26                      [1, 4]                    32\n",
       "│    └─BatchNorm1d: 2-27                 [1, 4]                    8\n",
       "│    └─GELU: 2-28                        [1, 4]                    --\n",
       "│    └─Linear: 2-29                      [1, 2]                    8\n",
       "│    └─BatchNorm1d: 2-30                 [1, 2]                    4\n",
       "│    └─GELU: 2-31                        [1, 2]                    --\n",
       "│    └─Linear: 2-32                      [1, 1]                    2\n",
       "│    └─BatchNorm1d: 2-33                 [1, 1]                    2\n",
       "│    └─GELU: 2-34                        [1, 1]                    --\n",
       "├─Sequential: 1-3                        [1, 64, 4, 4]             --\n",
       "│    └─Sequential: 2-35                  [1, 64, 76, 76]           --\n",
       "│    │    └─Conv2d: 3-13                 [1, 64, 76, 76]           12,544\n",
       "│    │    └─BatchNorm2d: 3-14            [1, 64, 76, 76]           128\n",
       "│    │    └─GELU: 3-15                   [1, 64, 76, 76]           --\n",
       "│    └─Sequential: 2-36                  [1, 64, 52, 52]           --\n",
       "│    │    └─Conv2d: 3-16                 [1, 64, 52, 52]           200,704\n",
       "│    │    └─BatchNorm2d: 3-17            [1, 64, 52, 52]           128\n",
       "│    │    └─GELU: 3-18                   [1, 64, 52, 52]           --\n",
       "│    └─Sequential: 2-37                  [1, 64, 28, 28]           --\n",
       "│    │    └─Conv2d: 3-19                 [1, 64, 28, 28]           200,704\n",
       "│    │    └─BatchNorm2d: 3-20            [1, 64, 28, 28]           128\n",
       "│    │    └─GELU: 3-21                   [1, 64, 28, 28]           --\n",
       "│    └─Sequential: 2-38                  [1, 64, 4, 4]             --\n",
       "│    │    └─Conv2d: 3-22                 [1, 64, 4, 4]             200,704\n",
       "│    │    └─BatchNorm2d: 3-23            [1, 64, 4, 4]             128\n",
       "│    │    └─GELU: 3-24                   [1, 64, 4, 4]             --\n",
       "├─Sequential: 1-4                        [1, 1]                    --\n",
       "│    └─Linear: 2-39                      [1, 512]                  524,288\n",
       "│    └─BatchNorm1d: 2-40                 [1, 512]                  1,024\n",
       "│    └─GELU: 2-41                        [1, 512]                  --\n",
       "│    └─Linear: 2-42                      [1, 256]                  131,072\n",
       "│    └─BatchNorm1d: 2-43                 [1, 256]                  512\n",
       "│    └─GELU: 2-44                        [1, 256]                  --\n",
       "│    └─Linear: 2-45                      [1, 128]                  32,768\n",
       "│    └─BatchNorm1d: 2-46                 [1, 128]                  256\n",
       "│    └─GELU: 2-47                        [1, 128]                  --\n",
       "│    └─Linear: 2-48                      [1, 64]                   8,192\n",
       "│    └─BatchNorm1d: 2-49                 [1, 64]                   128\n",
       "│    └─GELU: 2-50                        [1, 64]                   --\n",
       "│    └─Linear: 2-51                      [1, 32]                   2,048\n",
       "│    └─BatchNorm1d: 2-52                 [1, 32]                   64\n",
       "│    └─GELU: 2-53                        [1, 32]                   --\n",
       "│    └─Linear: 2-54                      [1, 16]                   512\n",
       "│    └─BatchNorm1d: 2-55                 [1, 16]                   32\n",
       "│    └─GELU: 2-56                        [1, 16]                   --\n",
       "│    └─Linear: 2-57                      [1, 8]                    128\n",
       "│    └─BatchNorm1d: 2-58                 [1, 8]                    16\n",
       "│    └─GELU: 2-59                        [1, 8]                    --\n",
       "│    └─Linear: 2-60                      [1, 4]                    32\n",
       "│    └─BatchNorm1d: 2-61                 [1, 4]                    8\n",
       "│    └─GELU: 2-62                        [1, 4]                    --\n",
       "│    └─Linear: 2-63                      [1, 2]                    8\n",
       "│    └─BatchNorm1d: 2-64                 [1, 2]                    4\n",
       "│    └─GELU: 2-65                        [1, 2]                    --\n",
       "│    └─Linear: 2-66                      [1, 1]                    2\n",
       "│    └─BatchNorm1d: 2-67                 [1, 1]                    2\n",
       "│    └─GELU: 2-68                        [1, 1]                    --\n",
       "==========================================================================================\n",
       "Total params: 2,632,528\n",
       "Trainable params: 2,632,528\n",
       "Non-trainable params: 0\n",
       "Total mult-adds (G): 1.55\n",
       "==========================================================================================\n",
       "Input size (MB): 0.32\n",
       "Forward/backward pass size (MB): 19.04\n",
       "Params size (MB): 10.53\n",
       "Estimated Total Size (MB): 29.89\n",
       "=========================================================================================="
      ]
     },
     "execution_count": 7,
     "metadata": {},
     "output_type": "execute_result"
    }
   ],
   "source": [
    "summary(model, input_size=[(1, 4, 100, 100),(1, 4, 100, 100)])"
   ]
  },
  {
   "cell_type": "markdown",
   "id": "e8a6f712-1fd2-4510-af1b-d85f8aed39b0",
   "metadata": {
    "jp-MarkdownHeadingCollapsed": true,
    "tags": []
   },
   "source": [
    "## Dataset Class"
   ]
  },
  {
   "cell_type": "code",
   "execution_count": 8,
   "id": "654b5f87-5664-4a08-bd58-d79d515fe8a3",
   "metadata": {
    "tags": []
   },
   "outputs": [],
   "source": [
    "class RadarDataset(Dataset):\n",
    "    \n",
    "    def __init__(self, path, seq_len=1, px=150, py=150, pz=150, rx=19.3*2, ry=19.3, rz=10., dAzi=15., dElev=15., dRoll=15., augment=True, transform=None):\n",
    "        super(RadarDataset, self).__init__()\n",
    "        \n",
    "        self.path = path\n",
    "        self.seq_len = seq_len\n",
    "        self.px = px\n",
    "        self.py = py\n",
    "        self.pz = pz\n",
    "        self.rx = rx\n",
    "        self.ry = ry\n",
    "        self.rz = rz\n",
    "        self.dAzi = dAzi\n",
    "        self.dElev = dElev\n",
    "        self.dRoll = dRoll\n",
    "        self.augment = augment\n",
    "        self.transform = transform\n",
    "        \n",
    "        _, _, files = next(os.walk(path))\n",
    "        print(f'>>> Found {len(files)} files in the selected directory. Building dataset...')\n",
    "        pbar = tqdm(total=len(files))\n",
    "        \n",
    "        self.offset_dict = {}\n",
    "        self.length = 0\n",
    "        pathlib.Path(self.path + 'Processed').mkdir(parents=True, exist_ok=True)\n",
    "    \n",
    "        # Creating unified file to optimize RAM\n",
    "        with open(self.path + 'Processed/unified-seq.txt', 'w') as u:\n",
    "            for file in files:\n",
    "                with open(self.path + file, 'r') as f:\n",
    "                    # Data is a list(timestamp, list(detections), speed)\n",
    "                    data = f.read().splitlines()\n",
    "                    for i in range(seq_len-1, len(data)):\n",
    "                        group = []\n",
    "                        status = []\n",
    "                        for j in range(i, i - seq_len, -1):\n",
    "                            # Evaluating current line\n",
    "                            curr = eval(data[j])\n",
    "                            group.append([curr[1],curr[2]])\n",
    "                            status.append(curr[3])\n",
    "                        # Saving data in a unified file if it contains at least one valid scan\n",
    "                        if status[0] > 0:\n",
    "                            self.offset_dict[self.length] = u.tell()\n",
    "                            u.write(str(group)+'\\n')\n",
    "                            self.length += 1\n",
    "                pbar.update(n=1)\n",
    "            \n",
    "        \n",
    "    def __len__(self):\n",
    "        return len(self.offset_dict)\n",
    "    \n",
    "\n",
    "    def __getitem__(self, id):\n",
    "        # Reading data on demand\n",
    "        offset = self.offset_dict[id]\n",
    "        with open(self.path + 'Processed/unified-seq.txt', 'r', encoding='utf-8') as f:\n",
    "            f.seek(offset)\n",
    "            line = f.readline()\n",
    "            # Processing recovered data\n",
    "            group = eval(line)\n",
    "            # Computing random angles to be used in the sequence\n",
    "            dAzi = random.uniform(-self.dAzi,self.dAzi) * np.pi/180.\n",
    "            dElev = random.uniform(-self.dElev,self.dElev) * np.pi/180.\n",
    "            dRoll = random.uniform(-self.dRoll,self.dRoll) * np.pi/180.\n",
    "            # Lists to store the sequence of data\n",
    "            I_top_scans = []\n",
    "            I_front_scans = []\n",
    "            curr_speed = 0.\n",
    "            for i, (data, speed) in enumerate(group):\n",
    "                data = np.array(data)\n",
    "                # Augmenting data\n",
    "                if self.augment:\n",
    "                    data = self._rotate(data, dAzi, dElev, dRoll)\n",
    "                # We normalize the position vector to get speed components\n",
    "                n = data[:,:3] / np.expand_dims(np.linalg.norm(data[:,:3], axis=1), axis=1)\n",
    "                speed_xyz = n * np.expand_dims(data[:,5],axis=1)\n",
    "                # Preparing tensors\n",
    "                I_top = self._top(np.copy(data), speed_xyz, px=self.px, py=self.py, rx=self.rx, ry=self.ry)\n",
    "                I_top = self.transform(I_top)\n",
    "                I_front = self._front(np.copy(data), speed_xyz, px=self.px, pz=self.pz, rx=self.rx, rz=self.rz)\n",
    "                I_front = self.transform(I_front)\n",
    "                I_top_scans.append(I_top)\n",
    "                I_front_scans.append(I_front)\n",
    "                if i == 0:\n",
    "                    curr_speed = speed\n",
    "            I_top_scans = torch.cat(I_top_scans, dim=0)\n",
    "            I_front_scans = torch.cat(I_front_scans, dim=0)\n",
    "            speeds = torch.FloatTensor([curr_speed])\n",
    "        return I_top_scans, I_front_scans, speeds\n",
    "    \n",
    "    \n",
    "    def _rotate(self, data, dAzi, dElev, dRoll):\n",
    "        ''' data has columns in the following order: x, y, z, rcs, snr, speed '''\n",
    "        # Rotating points\n",
    "        Rz = np.array([[np.cos(dAzi), -np.sin(dAzi), 0.],\n",
    "                       [np.sin(dAzi), np.cos(dAzi), 0.],\n",
    "                       [0., 0., 1.]])\n",
    "        Ry = np.array([[np.cos(dElev), 0., np.sin(dElev)],\n",
    "                       [0., 1., 0.],\n",
    "                       [-np.sin(dElev), 0., np.cos(dElev)]])\n",
    "        Rx = np.array([[1., 0., 0.],\n",
    "                       [0., np.cos(dRoll), -np.sin(dRoll)],\n",
    "                       [0., np.sin(dRoll), np.cos(dRoll)]])\n",
    "        R = Rz @ Ry @ Rx\n",
    "        pts = data[:,:3].T\n",
    "        pts = R.dot(pts).T\n",
    "        data[:,:3] = pts\n",
    "        return data\n",
    "        \n",
    "    \n",
    "    def _top(self, P, speed_xyz, px, py, rx, ry):\n",
    "        ''' P has columns in the following order: x, y, z, rcs, snr, speed '''\n",
    "        # Adjusting coordinates from radar to image\n",
    "        P[:, [0,1]] = P[:, [1,0]]\n",
    "        P[:, 0] *= -1\n",
    "        I = np.zeros((py,px,4), dtype=np.float32)\n",
    "        T = np.zeros((P.shape[0],2), dtype=np.uint16)\n",
    "        # Computing mapped positions\n",
    "        T[:,1] = np.uint16(np.maximum(np.minimum((px/rx) * P[:,0] + (px/2), px-1), 0))    \n",
    "        T[:,0] = np.uint16(np.maximum(np.minimum((py/ry) * P[:,1], py-1), 0))\n",
    "        # Mapping the space to the first layer\n",
    "        I[T[:,0],T[:,1],0] = np.squeeze(P[:,2])\n",
    "        # Mapping the rcs to the second layer\n",
    "        I[T[:,0],T[:,1],1] = np.squeeze(P[:,3])\n",
    "        # Mapping the snr to the second layer\n",
    "        I[T[:,0],T[:,1],2] = np.squeeze(P[:,4])\n",
    "        # Mapping the speed to the forth layer\n",
    "        # In the top view, speed is composed by x and y\n",
    "        I[T[:,0],T[:,1],3] = np.squeeze(speed_xyz[:,0]+speed_xyz[:,1])\n",
    "        return I\n",
    "    \n",
    "    \n",
    "    def _front(self, P, speed_xyz, px, pz, rx, rz):\n",
    "        ''' P has columns in the following order: x, y, z, rcs, snr, speed '''\n",
    "        # Adjusting coordinates from radar to image\n",
    "        P[:, [0,1]] = P[:, [1,0]]\n",
    "        P[:, 0] *= -1\n",
    "        I = np.zeros((pz,px,4), dtype=np.float32)\n",
    "        T = np.zeros((P.shape[0],2), dtype=np.uint16)\n",
    "        # Computing mapped positions\n",
    "        T[:,1] = np.uint16(np.maximum(np.minimum((px/rx) * P[:,0] + (px/2), px-1), 0))    \n",
    "        T[:,0] = np.uint16(np.maximum(np.minimum((pz/rz) * P[:,2] + (pz/2), pz-1), 0))\n",
    "        # Mapping the space to the first layer\n",
    "        I[T[:,0],T[:,1],0] = np.squeeze(P[:,1])\n",
    "        # Mapping the rcs to the second layer\n",
    "        I[T[:,0],T[:,1],1] = np.squeeze(P[:,3])\n",
    "        # Mapping the snr to the second layer\n",
    "        I[T[:,0],T[:,1],2] = np.squeeze(P[:,4])\n",
    "        # Mapping the speed to the forth layer\n",
    "        # In the front view, speed is composed by z\n",
    "        I[T[:,0],T[:,1],3] = np.squeeze(speed_xyz[:,2])\n",
    "        return I"
   ]
  },
  {
   "cell_type": "markdown",
   "id": "5b312c94-4fcc-4b2b-b47e-819f66dc0baf",
   "metadata": {
    "jp-MarkdownHeadingCollapsed": true,
    "tags": []
   },
   "source": [
    "## Functions"
   ]
  },
  {
   "cell_type": "code",
   "execution_count": 9,
   "id": "3e6df0af-9a7c-4c19-953b-b0e1487bf52f",
   "metadata": {
    "tags": []
   },
   "outputs": [],
   "source": [
    "def train_epoch(model, dataloader, loss_fn, optimizer, scheduler, device):\n",
    "    model.train()\n",
    "    train_loss = 0.\n",
    "    for I_top, I_front, speed in dataloader:\n",
    "        # plot_tensor(I_top[0,:,:,:], I_front[0,:,:,:])\n",
    "        # print(I_top.size(),I_front.size(), speed.size())\n",
    "        # break\n",
    "        I_top = I_top.to(device=device)\n",
    "        I_front = I_front.to(device=device)\n",
    "        speed = speed.to(device=device)\n",
    "        y = model(I_top, I_front)\n",
    "        loss = loss_fn(speed, y)\n",
    "        optimizer.zero_grad()\n",
    "        loss.backward()\n",
    "        optimizer.step()\n",
    "        train_loss += loss.item()\n",
    "    return train_loss / len(dataloader.dataset)"
   ]
  },
  {
   "cell_type": "code",
   "execution_count": 10,
   "id": "ab1f46eb-1711-46bd-9a09-0d93f00491d7",
   "metadata": {
    "tags": []
   },
   "outputs": [],
   "source": [
    "def test_epoch(model, dataloader, loss_fn, device):\n",
    "    model.eval()\n",
    "    test_loss = 0.\n",
    "    with torch.no_grad():\n",
    "        for I_top, I_front, speed in dataloader:\n",
    "            I_top = I_top.to(device=device)\n",
    "            I_front = I_front.to(device=device)\n",
    "            speed = speed.to(device=device)\n",
    "            y = model(I_top, I_front)\n",
    "            loss = loss_fn(speed, y)\n",
    "            test_loss += loss.item()\n",
    "    return test_loss / len(dataloader.dataset)"
   ]
  },
  {
   "cell_type": "code",
   "execution_count": 11,
   "id": "15419873-26d8-444f-9203-f3dd8b6dfbc7",
   "metadata": {
    "tags": []
   },
   "outputs": [],
   "source": [
    "def preview(model, dataloader, device, path, epoch, lr, show=False):\n",
    "    model.eval()\n",
    "    ref = []\n",
    "    est = []\n",
    "    with torch.no_grad():\n",
    "        for I_top, I_front, speed in dataloader:\n",
    "            I_top = I_top.to(device=device)\n",
    "            I_front = I_front.to(device=device)\n",
    "            speed = speed.to(device=device)\n",
    "            y = model(I_top, I_front)\n",
    "            ref.append(speed.cpu().numpy()[0][0])\n",
    "            est.append(y.cpu().numpy()[0][0])\n",
    "    fig, ax = plt.subplots(figsize=[12.8, 4.8])\n",
    "    ax.plot(est, 'r', linewidth=0.5, label='$\\hat{\\mathbf{x}}$')\n",
    "    ax.plot(ref, 'b', linewidth=0.75, label='$\\mathbf{x}$')\n",
    "    ax.set_xlabel('Samples')\n",
    "    ax.set_ylabel('m/s')\n",
    "    ax.legend(loc='upper left', fancybox=False)\n",
    "    ax.text(0, 1, f'LR = {lr}',\n",
    "        horizontalalignment='left',\n",
    "        verticalalignment='bottom',\n",
    "        transform=ax.transAxes)\n",
    "    plt.savefig(path + 'epoch_' + str(epoch).rjust(4, '0') + '.png')\n",
    "    if show:\n",
    "        plt.show()\n",
    "    plt.close(fig)        \n",
    "    return None"
   ]
  },
  {
   "cell_type": "code",
   "execution_count": 12,
   "id": "f38c9f85-b59a-4d05-9ad4-28fa6cb9a70a",
   "metadata": {
    "tags": []
   },
   "outputs": [],
   "source": [
    "def plot_tensor(I_top, I_front):\n",
    "    ''' Expecting tensors with C x H x W '''\n",
    "    fig = plt.figure(figsize=(24,12))\n",
    "    fig.tight_layout()\n",
    "    # fig, ((ax1, ax2, ax3, ax4), (ax5, ax6, ax7, ax8)) = plt.subplots(2,4,figsize=(16,8), sharey=True, sharex=True)\n",
    "    ax5 = plt.subplot(245)\n",
    "    ax1 = plt.subplot(241,sharex=ax5)\n",
    "    ax2 = plt.subplot(242,sharey=ax1)\n",
    "    ax3 = plt.subplot(243,sharey=ax1)\n",
    "    ax4 = plt.subplot(244,sharey=ax1)\n",
    "    ax6 = plt.subplot(246,sharey=ax5)\n",
    "    ax7 = plt.subplot(247,sharey=ax5)\n",
    "    ax8 = plt.subplot(248,sharey=ax5)\n",
    "    cm = 'cividis'\n",
    "    ###\n",
    "    ax1.set_title('Top-View (Space)')\n",
    "    im1 = ax1.imshow(I_top[0,:,:], cmap=cm)\n",
    "    divider = make_axes_locatable(ax1)\n",
    "    cax = divider.append_axes(\"right\", size=\"5%\", pad=0.05)\n",
    "    cb1 = plt.colorbar(im1, cax=cax)\n",
    "    cb1.ax.set_title('$\\mathbf{z}~[m]$')\n",
    "    ax1.set_yticks(ticks=[0,int(py/2),py-1])\n",
    "    ax1.set_yticklabels(['0.0',str(round(ry/2,1)),str(round(ry,1))])\n",
    "    ax1.set_ylabel('$\\mathbf{y}~[m]$', rotation=0, labelpad=20)\n",
    "    ###\n",
    "    ax2.set_title('Top-View (RCS)')\n",
    "    im2 = ax2.imshow(I_top[1,:,:], cmap=cm)\n",
    "    divider = make_axes_locatable(ax2)\n",
    "    cax = divider.append_axes(\"right\", size=\"5%\", pad=0.05)\n",
    "    cb2 = plt.colorbar(im2, cax=cax)\n",
    "    cb2.ax.set_title('$\\mathbf{RCS}$')\n",
    "    ###\n",
    "    ax3.set_title('Top-View (SNR)')\n",
    "    im3 = ax3.imshow(I_top[2,:,:], cmap=cm)\n",
    "    divider = make_axes_locatable(ax3)\n",
    "    cax = divider.append_axes(\"right\", size=\"5%\", pad=0.05)\n",
    "    cb3 = plt.colorbar(im3, cax=cax)\n",
    "    cb3.ax.set_title('$\\mathbf{SNR}$')\n",
    "    ###\n",
    "    ax4.set_title('Top-View (Speed)')\n",
    "    im4 = ax4.imshow(I_top[3,:,:], cmap=cm)\n",
    "    divider = make_axes_locatable(ax4)\n",
    "    cax = divider.append_axes(\"right\", size=\"5%\", pad=0.05)\n",
    "    cb4 = plt.colorbar(im4, cax=cax)\n",
    "    cb4.ax.set_title('$\\mathbf{Speed}$')\n",
    "    ###\n",
    "    ax5.set_title('Front-View (Space)')\n",
    "    im5 = ax5.imshow(I_front[0,:,:], cmap=cm)\n",
    "    divider = make_axes_locatable(ax5)\n",
    "    cax = divider.append_axes(\"right\", size=\"5%\", pad=0.05)\n",
    "    cb5 = plt.colorbar(im5, cax=cax)\n",
    "    cb5.ax.set_title('$\\mathbf{y}~[m]$')\n",
    "    ax5.set_xticks(ticks=[0,int(px/2),px-1])\n",
    "    ax5.set_xticklabels([str(round(-rx/2,1)),'0.0',str(round(rx/2,1))])\n",
    "    ax5.set_yticks(ticks=[0,int(pz/2),pz-1])\n",
    "    ax5.set_yticklabels([str(round(-rz/2,1)),'0.0',str(round(rz/2,1))])\n",
    "    ax5.set_xlabel('$\\mathbf{x}~[m]$')\n",
    "    ax5.set_ylabel('$\\mathbf{z}~[m]$', rotation=0, labelpad=20)\n",
    "    ###\n",
    "    ax6.set_title('Front-View (RCS)')\n",
    "    im6 = ax6.imshow(I_front[1,:,:], cmap=cm)\n",
    "    divider = make_axes_locatable(ax6)\n",
    "    cax = divider.append_axes(\"right\", size=\"5%\", pad=0.05)\n",
    "    cb6 = plt.colorbar(im6, cax=cax)\n",
    "    cb6.ax.set_title('$\\mathbf{RCS}$')\n",
    "    ax6.set_xticks(ticks=[0,int(px/2),px-1])\n",
    "    ax6.set_xticklabels([str(round(-rx/2,1)),'0.0',str(round(rx/2,1))])\n",
    "    ax6.set_xlabel('$\\mathbf{x}~[m]$')\n",
    "    ###\n",
    "    ax7.set_title('Front-View (SNR)')\n",
    "    im7 = ax7.imshow(I_front[2,:,:], cmap=cm)\n",
    "    divider = make_axes_locatable(ax7)\n",
    "    cax = divider.append_axes(\"right\", size=\"5%\", pad=0.05)\n",
    "    cb7 = plt.colorbar(im7, cax=cax)\n",
    "    cb7.ax.set_title('$\\mathbf{SNR}$')\n",
    "    ax7.set_xticks(ticks=[0,int(px/2),px-1])\n",
    "    ax7.set_xticklabels([str(round(-rx/2,1)),'0.0',str(round(rx/2,1))])\n",
    "    ax7.set_xlabel('$\\mathbf{x}~[m]$')\n",
    "    ###\n",
    "    ax8.set_title('Front-View (Speed)')\n",
    "    im8 = ax8.imshow(I_front[3,:,:], cmap=cm)\n",
    "    divider = make_axes_locatable(ax8)\n",
    "    cax = divider.append_axes(\"right\", size=\"5%\", pad=0.05)\n",
    "    cb8 = plt.colorbar(im8, cax=cax)\n",
    "    cb8.ax.set_title('$\\mathbf{Speed}$')\n",
    "    ax8.set_xticks(ticks=[0,int(px/2),px-1])\n",
    "    ax8.set_xticklabels([str(round(-rx/2,1)),'0.0',str(round(rx/2,1))])\n",
    "    ax8.set_xlabel('$\\mathbf{x}~[m]$')\n",
    "    \n",
    "    plt.show();\n",
    "    \n",
    "    return None"
   ]
  },
  {
   "cell_type": "markdown",
   "id": "72bb3e3a-09c5-47f4-ad38-4ef8ca389969",
   "metadata": {
    "jp-MarkdownHeadingCollapsed": true,
    "tags": []
   },
   "source": [
    "## Preparing Datasets and Dataloaders"
   ]
  },
  {
   "cell_type": "code",
   "execution_count": 13,
   "id": "3e478747-4c86-4c7e-bb04-3155c665109d",
   "metadata": {
    "tags": []
   },
   "outputs": [],
   "source": [
    "t = transforms.Compose([transforms.ToTensor()])"
   ]
  },
  {
   "cell_type": "code",
   "execution_count": 14,
   "id": "ce1a74a1-e394-4708-b103-72060180bb60",
   "metadata": {
    "tags": []
   },
   "outputs": [],
   "source": [
    "px = 100\n",
    "py = 100\n",
    "pz = 100\n",
    "rx = 20. * 2\n",
    "ry = 20.\n",
    "rz = 15.\n",
    "dAzi = 15.\n",
    "dElev = 15.\n",
    "dRoll = 0."
   ]
  },
  {
   "cell_type": "code",
   "execution_count": 15,
   "id": "c731794f-678f-419d-bdee-aa6f41dd4abe",
   "metadata": {
    "tags": []
   },
   "outputs": [
    {
     "name": "stdout",
     "output_type": "stream",
     "text": [
      ">>> Found 8 files in the selected directory. Building dataset...\n"
     ]
    },
    {
     "name": "stderr",
     "output_type": "stream",
     "text": [
      "100%|█████████████████████████████████████████████| 8/8 [01:14<00:00,  9.32s/it]\n"
     ]
    }
   ],
   "source": [
    "train_data = RadarDataset('../synched/fl_V0/train/', seq_len=seq_len, px=px, py=py, pz=pz, rx=rx, ry=ry, rz=rz, dAzi=dAzi, dElev=dElev, dRoll=dRoll, augment=True, transform=t)"
   ]
  },
  {
   "cell_type": "code",
   "execution_count": 16,
   "id": "f7a4f59b-0c3b-43db-90f7-b747d07ef682",
   "metadata": {
    "tags": []
   },
   "outputs": [
    {
     "data": {
      "text/plain": [
       "151901"
      ]
     },
     "execution_count": 16,
     "metadata": {},
     "output_type": "execute_result"
    }
   ],
   "source": [
    "len(train_data)"
   ]
  },
  {
   "cell_type": "code",
   "execution_count": 17,
   "id": "229b5b60-b177-4a40-9328-e1c80dcbd40a",
   "metadata": {
    "tags": []
   },
   "outputs": [
    {
     "name": "stdout",
     "output_type": "stream",
     "text": [
      ">>> Found 1 files in the selected directory. Building dataset...\n"
     ]
    },
    {
     "name": "stderr",
     "output_type": "stream",
     "text": [
      "100%|█████████████████████████████████████████████| 1/1 [00:16<00:00, 16.21s/it]\n"
     ]
    }
   ],
   "source": [
    "test_data = RadarDataset('../synched/fl_V0/test/', seq_len=seq_len, px=px, py=py, pz=pz, rx=rx, ry=ry, rz=rz, augment=False, transform=t)"
   ]
  },
  {
   "cell_type": "code",
   "execution_count": 18,
   "id": "e17e56fa-c6e4-4107-8177-11d170bb9773",
   "metadata": {
    "tags": []
   },
   "outputs": [
    {
     "data": {
      "text/plain": [
       "24380"
      ]
     },
     "execution_count": 18,
     "metadata": {},
     "output_type": "execute_result"
    }
   ],
   "source": [
    "len(test_data)"
   ]
  },
  {
   "cell_type": "code",
   "execution_count": 19,
   "id": "9d955a54-4e22-45cb-9f5c-d51e9bd4ec23",
   "metadata": {
    "tags": []
   },
   "outputs": [],
   "source": [
    "train_loader = DataLoader(train_data, batch_size=1024, drop_last=True, shuffle=True, pin_memory=True, num_workers=16)"
   ]
  },
  {
   "cell_type": "code",
   "execution_count": 20,
   "id": "230cf2e7-76ea-4a07-aac3-2ba676948dff",
   "metadata": {
    "tags": []
   },
   "outputs": [],
   "source": [
    "test_loader = DataLoader(test_data, batch_size=1024, drop_last=True, shuffle=True, pin_memory=True, num_workers=16)"
   ]
  },
  {
   "cell_type": "code",
   "execution_count": 21,
   "id": "bb33a313-b590-4276-9fd3-12592715eeec",
   "metadata": {
    "tags": []
   },
   "outputs": [],
   "source": [
    "preview_loader = DataLoader(test_data, batch_size=1, drop_last=False, shuffle=False, pin_memory=True, num_workers=4)"
   ]
  },
  {
   "cell_type": "markdown",
   "id": "e47975dd-02bc-4f4e-b23d-8f2f35ef6bb3",
   "metadata": {
    "tags": []
   },
   "source": [
    "## Training model"
   ]
  },
  {
   "cell_type": "code",
   "execution_count": 22,
   "id": "f38cb3f5-0928-4670-b69f-18b3b6701d41",
   "metadata": {
    "tags": []
   },
   "outputs": [],
   "source": [
    "model = RadarPCL(seq_len)"
   ]
  },
  {
   "cell_type": "markdown",
   "id": "07c34830-be1d-4b01-8f9e-b36858a5c56f",
   "metadata": {},
   "source": [
    "Loading weights"
   ]
  },
  {
   "cell_type": "code",
   "execution_count": 23,
   "id": "f42f6900-0e41-4ebb-8f9f-9c9fe9020b7e",
   "metadata": {
    "tags": []
   },
   "outputs": [],
   "source": [
    "# target = '2023-04-10-06-58-41-RadarNet-Short-V0'"
   ]
  },
  {
   "cell_type": "code",
   "execution_count": 24,
   "id": "ce50fcdb-2b1e-40dd-b9ff-f86844f9abcb",
   "metadata": {
    "tags": []
   },
   "outputs": [],
   "source": [
    "# pretrained = torch.load('checkpoints/' + target + '/weights.pt')\n",
    "# pretrained.keys()"
   ]
  },
  {
   "cell_type": "code",
   "execution_count": 25,
   "id": "12942232-5c8a-4256-8a4c-9b5f057527f6",
   "metadata": {
    "tags": []
   },
   "outputs": [],
   "source": [
    "# model.load_state_dict(pretrained['model_state_dict'])"
   ]
  },
  {
   "cell_type": "code",
   "execution_count": 26,
   "id": "69cf878a-5868-4201-b88e-da909982028c",
   "metadata": {
    "tags": []
   },
   "outputs": [],
   "source": [
    "# optimizer.load_state_dict(pretrained['optimizer_state_dict'])"
   ]
  },
  {
   "cell_type": "code",
   "execution_count": 27,
   "id": "2a774bfd-0802-4ff4-a441-bfdc44f60b54",
   "metadata": {
    "tags": []
   },
   "outputs": [
    {
     "data": {
      "text/plain": [
       "device(type='cuda', index=0)"
      ]
     },
     "execution_count": 27,
     "metadata": {},
     "output_type": "execute_result"
    }
   ],
   "source": [
    "device = torch.device('cuda:0' if torch.cuda.is_available() else 'cpu')\n",
    "device"
   ]
  },
  {
   "cell_type": "code",
   "execution_count": 28,
   "id": "07073722-f46c-4628-a14b-ad64366f4604",
   "metadata": {
    "tags": []
   },
   "outputs": [],
   "source": [
    "model.to(device);"
   ]
  },
  {
   "cell_type": "code",
   "execution_count": 29,
   "id": "ef3698da-901a-448d-b742-b97ecde30b06",
   "metadata": {
    "tags": []
   },
   "outputs": [],
   "source": [
    "loss_fn = nn.MSELoss()"
   ]
  },
  {
   "cell_type": "code",
   "execution_count": 30,
   "id": "56d913a2-68fb-4d76-b42f-bf4ed2d98ce9",
   "metadata": {
    "tags": []
   },
   "outputs": [],
   "source": [
    "optimizer = optim.RAdam(model.parameters(), lr=1e-3, weight_decay=1e-5)"
   ]
  },
  {
   "cell_type": "code",
   "execution_count": 31,
   "id": "f6e9743d-8e86-49c7-8fa4-caacc3857540",
   "metadata": {
    "tags": []
   },
   "outputs": [],
   "source": [
    "scheduler = optim.lr_scheduler.ReduceLROnPlateau(optimizer, 'min', patience=200)"
   ]
  },
  {
   "cell_type": "markdown",
   "id": "ea136626-559b-4c33-9970-0b73ef37b5e6",
   "metadata": {},
   "source": [
    "Running the training routine"
   ]
  },
  {
   "cell_type": "code",
   "execution_count": 32,
   "id": "931e5ce0-d5ef-4d24-b712-763ad849214a",
   "metadata": {
    "tags": []
   },
   "outputs": [],
   "source": [
    "epochs = 1000"
   ]
  },
  {
   "cell_type": "code",
   "execution_count": 33,
   "id": "a80fc772-49e6-4390-bb5b-398c398e7579",
   "metadata": {
    "tags": []
   },
   "outputs": [],
   "source": [
    "best_loss = np.inf"
   ]
  },
  {
   "cell_type": "code",
   "execution_count": 34,
   "id": "10a76c7d-3cc4-45c8-9bbb-27d6ba4f564e",
   "metadata": {
    "tags": []
   },
   "outputs": [],
   "source": [
    "train_losses = []\n",
    "test_losses  = []"
   ]
  },
  {
   "cell_type": "code",
   "execution_count": 35,
   "id": "8f736938-3013-48e8-a38d-83a0616adc04",
   "metadata": {},
   "outputs": [],
   "source": [
    "pathlib.Path('../checkpoints/' + tag).mkdir(parents=True, exist_ok=True)\n",
    "pathlib.Path('../checkpoints/' + tag + '/Images').mkdir(parents=True, exist_ok=True)"
   ]
  },
  {
   "cell_type": "code",
   "execution_count": 36,
   "id": "b10e4b08-8816-4aeb-8ab8-1e1ac4d0e2e0",
   "metadata": {
    "tags": []
   },
   "outputs": [
    {
     "name": "stdout",
     "output_type": "stream",
     "text": [
      "EPOCH 1/1000 \t TRAIN LOSS: 0.076256 \t TEST LOSS: 0.035828 \t TIME: 1.717min\n",
      "EPOCH 2/1000 \t TRAIN LOSS: 0.069401 \t TEST LOSS: 0.036657 \t TIME: 1.584min\n",
      "EPOCH 3/1000 \t TRAIN LOSS: 0.066126 \t TEST LOSS: 0.036957 \t TIME: 1.581min\n",
      "EPOCH 4/1000 \t TRAIN LOSS: 0.062566 \t TEST LOSS: 0.030777 \t TIME: 1.582min\n",
      "EPOCH 5/1000 \t TRAIN LOSS: 0.058866 \t TEST LOSS: 0.032568 \t TIME: 1.59min\n",
      "EPOCH 6/1000 \t TRAIN LOSS: 0.055234 \t TEST LOSS: 0.033429 \t TIME: 1.603min\n",
      "EPOCH 7/1000 \t TRAIN LOSS: 0.051506 \t TEST LOSS: 0.031173 \t TIME: 1.586min\n",
      "EPOCH 8/1000 \t TRAIN LOSS: 0.047807 \t TEST LOSS: 0.025109 \t TIME: 1.572min\n",
      "EPOCH 9/1000 \t TRAIN LOSS: 0.044242 \t TEST LOSS: 0.019169 \t TIME: 1.542min\n",
      "EPOCH 10/1000 \t TRAIN LOSS: 0.040698 \t TEST LOSS: 0.018441 \t TIME: 1.602min\n",
      "EPOCH 11/1000 \t TRAIN LOSS: 0.03739 \t TEST LOSS: 0.015915 \t TIME: 1.586min\n",
      "EPOCH 12/1000 \t TRAIN LOSS: 0.034102 \t TEST LOSS: 0.015949 \t TIME: 1.569min\n",
      "EPOCH 13/1000 \t TRAIN LOSS: 0.031056 \t TEST LOSS: 0.018043 \t TIME: 1.578min\n",
      "EPOCH 14/1000 \t TRAIN LOSS: 0.02814 \t TEST LOSS: 0.010648 \t TIME: 1.575min\n",
      "EPOCH 15/1000 \t TRAIN LOSS: 0.025472 \t TEST LOSS: 0.015626 \t TIME: 1.576min\n",
      "EPOCH 16/1000 \t TRAIN LOSS: 0.022864 \t TEST LOSS: 0.007986 \t TIME: 1.587min\n",
      "EPOCH 17/1000 \t TRAIN LOSS: 0.020578 \t TEST LOSS: 0.010487 \t TIME: 1.564min\n",
      "EPOCH 18/1000 \t TRAIN LOSS: 0.018351 \t TEST LOSS: 0.006124 \t TIME: 1.597min\n",
      "EPOCH 19/1000 \t TRAIN LOSS: 0.016397 \t TEST LOSS: 0.007633 \t TIME: 1.578min\n",
      "EPOCH 20/1000 \t TRAIN LOSS: 0.014513 \t TEST LOSS: 0.005731 \t TIME: 1.569min\n",
      "EPOCH 21/1000 \t TRAIN LOSS: 0.012898 \t TEST LOSS: 0.005036 \t TIME: 1.564min\n",
      "EPOCH 22/1000 \t TRAIN LOSS: 0.011398 \t TEST LOSS: 0.005064 \t TIME: 1.583min\n",
      "EPOCH 23/1000 \t TRAIN LOSS: 0.010029 \t TEST LOSS: 0.004038 \t TIME: 1.583min\n",
      "EPOCH 24/1000 \t TRAIN LOSS: 0.008858 \t TEST LOSS: 0.003111 \t TIME: 1.57min\n",
      "EPOCH 25/1000 \t TRAIN LOSS: 0.007773 \t TEST LOSS: 0.004237 \t TIME: 1.594min\n",
      "EPOCH 26/1000 \t TRAIN LOSS: 0.006841 \t TEST LOSS: 0.003893 \t TIME: 1.582min\n",
      "EPOCH 27/1000 \t TRAIN LOSS: 0.006055 \t TEST LOSS: 0.00387 \t TIME: 1.567min\n",
      "EPOCH 28/1000 \t TRAIN LOSS: 0.005441 \t TEST LOSS: 0.001965 \t TIME: 1.565min\n",
      "EPOCH 29/1000 \t TRAIN LOSS: 0.004882 \t TEST LOSS: 0.001434 \t TIME: 1.584min\n",
      "EPOCH 30/1000 \t TRAIN LOSS: 0.004347 \t TEST LOSS: 0.002155 \t TIME: 1.575min\n",
      "EPOCH 31/1000 \t TRAIN LOSS: 0.003972 \t TEST LOSS: 0.001636 \t TIME: 1.582min\n",
      "EPOCH 32/1000 \t TRAIN LOSS: 0.003578 \t TEST LOSS: 0.001437 \t TIME: 1.571min\n",
      "EPOCH 33/1000 \t TRAIN LOSS: 0.00338 \t TEST LOSS: 0.001113 \t TIME: 1.573min\n",
      "EPOCH 34/1000 \t TRAIN LOSS: 0.00316 \t TEST LOSS: 0.000929 \t TIME: 1.565min\n",
      "EPOCH 35/1000 \t TRAIN LOSS: 0.002968 \t TEST LOSS: 0.001059 \t TIME: 1.568min\n",
      "EPOCH 36/1000 \t TRAIN LOSS: 0.002787 \t TEST LOSS: 0.001042 \t TIME: 1.58min\n",
      "EPOCH 37/1000 \t TRAIN LOSS: 0.002905 \t TEST LOSS: 0.001118 \t TIME: 1.581min\n",
      "EPOCH 38/1000 \t TRAIN LOSS: 0.002611 \t TEST LOSS: 0.001155 \t TIME: 1.579min\n",
      "EPOCH 39/1000 \t TRAIN LOSS: 0.002625 \t TEST LOSS: 0.00096 \t TIME: 1.569min\n",
      "EPOCH 40/1000 \t TRAIN LOSS: 0.002504 \t TEST LOSS: 0.00105 \t TIME: 1.576min\n",
      "EPOCH 41/1000 \t TRAIN LOSS: 0.002479 \t TEST LOSS: 0.000969 \t TIME: 1.584min\n",
      "EPOCH 42/1000 \t TRAIN LOSS: 0.00236 \t TEST LOSS: 0.000886 \t TIME: 1.593min\n",
      "EPOCH 43/1000 \t TRAIN LOSS: 0.002379 \t TEST LOSS: 0.001172 \t TIME: 1.597min\n",
      "EPOCH 44/1000 \t TRAIN LOSS: 0.002359 \t TEST LOSS: 0.001083 \t TIME: 1.585min\n",
      "EPOCH 45/1000 \t TRAIN LOSS: 0.002359 \t TEST LOSS: 0.000816 \t TIME: 1.567min\n",
      "EPOCH 46/1000 \t TRAIN LOSS: 0.002234 \t TEST LOSS: 0.001044 \t TIME: 1.576min\n",
      "EPOCH 47/1000 \t TRAIN LOSS: 0.002338 \t TEST LOSS: 0.001163 \t TIME: 1.565min\n",
      "EPOCH 48/1000 \t TRAIN LOSS: 0.002228 \t TEST LOSS: 0.001184 \t TIME: 1.576min\n",
      "EPOCH 49/1000 \t TRAIN LOSS: 0.002201 \t TEST LOSS: 0.000938 \t TIME: 1.585min\n",
      "EPOCH 50/1000 \t TRAIN LOSS: 0.002087 \t TEST LOSS: 0.000908 \t TIME: 1.583min\n",
      "EPOCH 51/1000 \t TRAIN LOSS: 0.002153 \t TEST LOSS: 0.000988 \t TIME: 1.594min\n",
      "EPOCH 52/1000 \t TRAIN LOSS: 0.002101 \t TEST LOSS: 0.001016 \t TIME: 1.562min\n",
      "EPOCH 53/1000 \t TRAIN LOSS: 0.002051 \t TEST LOSS: 0.000857 \t TIME: 1.56min\n",
      "EPOCH 54/1000 \t TRAIN LOSS: 0.002059 \t TEST LOSS: 0.001071 \t TIME: 1.557min\n",
      "EPOCH 55/1000 \t TRAIN LOSS: 0.002024 \t TEST LOSS: 0.001008 \t TIME: 1.572min\n",
      "EPOCH 56/1000 \t TRAIN LOSS: 0.001989 \t TEST LOSS: 0.000734 \t TIME: 1.573min\n",
      "EPOCH 57/1000 \t TRAIN LOSS: 0.001946 \t TEST LOSS: 0.001018 \t TIME: 1.568min\n",
      "EPOCH 58/1000 \t TRAIN LOSS: 0.001967 \t TEST LOSS: 0.000932 \t TIME: 1.573min\n",
      "EPOCH 59/1000 \t TRAIN LOSS: 0.001953 \t TEST LOSS: 0.000908 \t TIME: 1.572min\n",
      "EPOCH 60/1000 \t TRAIN LOSS: 0.001922 \t TEST LOSS: 0.000918 \t TIME: 1.551min\n",
      "EPOCH 61/1000 \t TRAIN LOSS: 0.001878 \t TEST LOSS: 0.001106 \t TIME: 1.56min\n",
      "EPOCH 62/1000 \t TRAIN LOSS: 0.001793 \t TEST LOSS: 0.001118 \t TIME: 1.573min\n",
      "EPOCH 63/1000 \t TRAIN LOSS: 0.001929 \t TEST LOSS: 0.000733 \t TIME: 1.575min\n",
      "EPOCH 64/1000 \t TRAIN LOSS: 0.001865 \t TEST LOSS: 0.000828 \t TIME: 1.575min\n",
      "EPOCH 65/1000 \t TRAIN LOSS: 0.001804 \t TEST LOSS: 0.00091 \t TIME: 1.584min\n",
      "EPOCH 66/1000 \t TRAIN LOSS: 0.001839 \t TEST LOSS: 0.000891 \t TIME: 1.569min\n",
      "EPOCH 67/1000 \t TRAIN LOSS: 0.001782 \t TEST LOSS: 0.001013 \t TIME: 1.581min\n",
      "EPOCH 68/1000 \t TRAIN LOSS: 0.001783 \t TEST LOSS: 0.000976 \t TIME: 1.558min\n",
      "EPOCH 69/1000 \t TRAIN LOSS: 0.001757 \t TEST LOSS: 0.000763 \t TIME: 1.558min\n",
      "EPOCH 70/1000 \t TRAIN LOSS: 0.001689 \t TEST LOSS: 0.000747 \t TIME: 1.561min\n",
      "EPOCH 71/1000 \t TRAIN LOSS: 0.001659 \t TEST LOSS: 0.000817 \t TIME: 1.569min\n",
      "EPOCH 72/1000 \t TRAIN LOSS: 0.001665 \t TEST LOSS: 0.000932 \t TIME: 1.571min\n",
      "EPOCH 73/1000 \t TRAIN LOSS: 0.00166 \t TEST LOSS: 0.001193 \t TIME: 1.568min\n",
      "EPOCH 74/1000 \t TRAIN LOSS: 0.001737 \t TEST LOSS: 0.000925 \t TIME: 1.582min\n",
      "EPOCH 75/1000 \t TRAIN LOSS: 0.001699 \t TEST LOSS: 0.000829 \t TIME: 1.56min\n",
      "EPOCH 76/1000 \t TRAIN LOSS: 0.001639 \t TEST LOSS: 0.000836 \t TIME: 1.57min\n",
      "EPOCH 77/1000 \t TRAIN LOSS: 0.001603 \t TEST LOSS: 0.001163 \t TIME: 1.568min\n",
      "EPOCH 78/1000 \t TRAIN LOSS: 0.001635 \t TEST LOSS: 0.000797 \t TIME: 1.559min\n",
      "EPOCH 79/1000 \t TRAIN LOSS: 0.001572 \t TEST LOSS: 0.000834 \t TIME: 1.572min\n",
      "EPOCH 80/1000 \t TRAIN LOSS: 0.001641 \t TEST LOSS: 0.000848 \t TIME: 1.553min\n",
      "EPOCH 81/1000 \t TRAIN LOSS: 0.001583 \t TEST LOSS: 0.000845 \t TIME: 1.557min\n",
      "EPOCH 82/1000 \t TRAIN LOSS: 0.001591 \t TEST LOSS: 0.000831 \t TIME: 1.585min\n",
      "EPOCH 83/1000 \t TRAIN LOSS: 0.001544 \t TEST LOSS: 0.00086 \t TIME: 1.583min\n",
      "EPOCH 84/1000 \t TRAIN LOSS: 0.001536 \t TEST LOSS: 0.000826 \t TIME: 1.579min\n",
      "EPOCH 85/1000 \t TRAIN LOSS: 0.001608 \t TEST LOSS: 0.000757 \t TIME: 1.573min\n",
      "EPOCH 86/1000 \t TRAIN LOSS: 0.001517 \t TEST LOSS: 0.000743 \t TIME: 1.578min\n",
      "EPOCH 87/1000 \t TRAIN LOSS: 0.001546 \t TEST LOSS: 0.000965 \t TIME: 1.573min\n",
      "EPOCH 88/1000 \t TRAIN LOSS: 0.001554 \t TEST LOSS: 0.000791 \t TIME: 1.57min\n",
      "EPOCH 89/1000 \t TRAIN LOSS: 0.001504 \t TEST LOSS: 0.000889 \t TIME: 1.585min\n",
      "EPOCH 90/1000 \t TRAIN LOSS: 0.001532 \t TEST LOSS: 0.000888 \t TIME: 1.574min\n",
      "EPOCH 91/1000 \t TRAIN LOSS: 0.00149 \t TEST LOSS: 0.000877 \t TIME: 1.57min\n",
      "EPOCH 92/1000 \t TRAIN LOSS: 0.001411 \t TEST LOSS: 0.000818 \t TIME: 1.571min\n",
      "EPOCH 93/1000 \t TRAIN LOSS: 0.001467 \t TEST LOSS: 0.000926 \t TIME: 1.563min\n",
      "EPOCH 94/1000 \t TRAIN LOSS: 0.001408 \t TEST LOSS: 0.000876 \t TIME: 1.569min\n",
      "EPOCH 95/1000 \t TRAIN LOSS: 0.001446 \t TEST LOSS: 0.00089 \t TIME: 1.576min\n",
      "EPOCH 96/1000 \t TRAIN LOSS: 0.001404 \t TEST LOSS: 0.000862 \t TIME: 1.575min\n",
      "EPOCH 97/1000 \t TRAIN LOSS: 0.001393 \t TEST LOSS: 0.000915 \t TIME: 1.545min\n",
      "EPOCH 98/1000 \t TRAIN LOSS: 0.001424 \t TEST LOSS: 0.000988 \t TIME: 1.578min\n",
      "EPOCH 99/1000 \t TRAIN LOSS: 0.001417 \t TEST LOSS: 0.000937 \t TIME: 1.58min\n",
      "EPOCH 100/1000 \t TRAIN LOSS: 0.001395 \t TEST LOSS: 0.000961 \t TIME: 1.573min\n",
      "EPOCH 101/1000 \t TRAIN LOSS: 0.001388 \t TEST LOSS: 0.000819 \t TIME: 1.579min\n",
      "EPOCH 102/1000 \t TRAIN LOSS: 0.001382 \t TEST LOSS: 0.000796 \t TIME: 1.577min\n",
      "EPOCH 103/1000 \t TRAIN LOSS: 0.001392 \t TEST LOSS: 0.00077 \t TIME: 1.569min\n",
      "EPOCH 104/1000 \t TRAIN LOSS: 0.001331 \t TEST LOSS: 0.000791 \t TIME: 1.564min\n",
      "EPOCH 105/1000 \t TRAIN LOSS: 0.001307 \t TEST LOSS: 0.000908 \t TIME: 1.58min\n",
      "EPOCH 106/1000 \t TRAIN LOSS: 0.001363 \t TEST LOSS: 0.000885 \t TIME: 1.584min\n",
      "EPOCH 107/1000 \t TRAIN LOSS: 0.001413 \t TEST LOSS: 0.000869 \t TIME: 1.576min\n",
      "EPOCH 108/1000 \t TRAIN LOSS: 0.001342 \t TEST LOSS: 0.000869 \t TIME: 1.584min\n",
      "EPOCH 109/1000 \t TRAIN LOSS: 0.001311 \t TEST LOSS: 0.000792 \t TIME: 1.579min\n",
      "EPOCH 110/1000 \t TRAIN LOSS: 0.001297 \t TEST LOSS: 0.000803 \t TIME: 1.571min\n",
      "EPOCH 111/1000 \t TRAIN LOSS: 0.0013 \t TEST LOSS: 0.00077 \t TIME: 1.571min\n",
      "EPOCH 112/1000 \t TRAIN LOSS: 0.001302 \t TEST LOSS: 0.000818 \t TIME: 1.576min\n",
      "EPOCH 113/1000 \t TRAIN LOSS: 0.001259 \t TEST LOSS: 0.000845 \t TIME: 1.573min\n",
      "EPOCH 114/1000 \t TRAIN LOSS: 0.001301 \t TEST LOSS: 0.000841 \t TIME: 1.578min\n",
      "EPOCH 115/1000 \t TRAIN LOSS: 0.001227 \t TEST LOSS: 0.000848 \t TIME: 1.571min\n",
      "EPOCH 116/1000 \t TRAIN LOSS: 0.001221 \t TEST LOSS: 0.000698 \t TIME: 1.573min\n",
      "EPOCH 117/1000 \t TRAIN LOSS: 0.001279 \t TEST LOSS: 0.000878 \t TIME: 1.564min\n",
      "EPOCH 118/1000 \t TRAIN LOSS: 0.001246 \t TEST LOSS: 0.000911 \t TIME: 1.558min\n",
      "EPOCH 119/1000 \t TRAIN LOSS: 0.001256 \t TEST LOSS: 0.001178 \t TIME: 1.586min\n",
      "EPOCH 120/1000 \t TRAIN LOSS: 0.001268 \t TEST LOSS: 0.000903 \t TIME: 1.567min\n",
      "EPOCH 121/1000 \t TRAIN LOSS: 0.001268 \t TEST LOSS: 0.000885 \t TIME: 1.568min\n",
      "EPOCH 122/1000 \t TRAIN LOSS: 0.001242 \t TEST LOSS: 0.000879 \t TIME: 1.578min\n",
      "EPOCH 123/1000 \t TRAIN LOSS: 0.001203 \t TEST LOSS: 0.000848 \t TIME: 1.568min\n",
      "EPOCH 124/1000 \t TRAIN LOSS: 0.001236 \t TEST LOSS: 0.000832 \t TIME: 1.573min\n",
      "EPOCH 125/1000 \t TRAIN LOSS: 0.001209 \t TEST LOSS: 0.000822 \t TIME: 1.588min\n",
      "EPOCH 126/1000 \t TRAIN LOSS: 0.00119 \t TEST LOSS: 0.001012 \t TIME: 1.578min\n",
      "EPOCH 127/1000 \t TRAIN LOSS: 0.001223 \t TEST LOSS: 0.000869 \t TIME: 1.561min\n",
      "EPOCH 128/1000 \t TRAIN LOSS: 0.001277 \t TEST LOSS: 0.000707 \t TIME: 1.567min\n",
      "EPOCH 129/1000 \t TRAIN LOSS: 0.001243 \t TEST LOSS: 0.000823 \t TIME: 1.573min\n",
      "EPOCH 130/1000 \t TRAIN LOSS: 0.001153 \t TEST LOSS: 0.000876 \t TIME: 1.567min\n",
      "EPOCH 131/1000 \t TRAIN LOSS: 0.00115 \t TEST LOSS: 0.000778 \t TIME: 1.572min\n",
      "EPOCH 132/1000 \t TRAIN LOSS: 0.001144 \t TEST LOSS: 0.000963 \t TIME: 1.574min\n",
      "EPOCH 133/1000 \t TRAIN LOSS: 0.001166 \t TEST LOSS: 0.000821 \t TIME: 1.578min\n",
      "EPOCH 134/1000 \t TRAIN LOSS: 0.001137 \t TEST LOSS: 0.000825 \t TIME: 1.57min\n",
      "EPOCH 135/1000 \t TRAIN LOSS: 0.00112 \t TEST LOSS: 0.000828 \t TIME: 1.573min\n",
      "EPOCH 136/1000 \t TRAIN LOSS: 0.001126 \t TEST LOSS: 0.000764 \t TIME: 1.573min\n",
      "EPOCH 137/1000 \t TRAIN LOSS: 0.001124 \t TEST LOSS: 0.000691 \t TIME: 1.574min\n",
      "EPOCH 138/1000 \t TRAIN LOSS: 0.001104 \t TEST LOSS: 0.000881 \t TIME: 1.577min\n",
      "EPOCH 139/1000 \t TRAIN LOSS: 0.001087 \t TEST LOSS: 0.000884 \t TIME: 1.573min\n",
      "EPOCH 140/1000 \t TRAIN LOSS: 0.001119 \t TEST LOSS: 0.000809 \t TIME: 1.559min\n",
      "EPOCH 141/1000 \t TRAIN LOSS: 0.001136 \t TEST LOSS: 0.000923 \t TIME: 1.566min\n",
      "EPOCH 142/1000 \t TRAIN LOSS: 0.001067 \t TEST LOSS: 0.000774 \t TIME: 1.582min\n",
      "EPOCH 143/1000 \t TRAIN LOSS: 0.001123 \t TEST LOSS: 0.000921 \t TIME: 1.575min\n",
      "EPOCH 144/1000 \t TRAIN LOSS: 0.001096 \t TEST LOSS: 0.000723 \t TIME: 1.577min\n",
      "EPOCH 145/1000 \t TRAIN LOSS: 0.00106 \t TEST LOSS: 0.000867 \t TIME: 1.573min\n",
      "EPOCH 146/1000 \t TRAIN LOSS: 0.001074 \t TEST LOSS: 0.000852 \t TIME: 1.561min\n",
      "EPOCH 147/1000 \t TRAIN LOSS: 0.001074 \t TEST LOSS: 0.000735 \t TIME: 1.558min\n",
      "EPOCH 148/1000 \t TRAIN LOSS: 0.001089 \t TEST LOSS: 0.001017 \t TIME: 1.576min\n",
      "EPOCH 149/1000 \t TRAIN LOSS: 0.001082 \t TEST LOSS: 0.000737 \t TIME: 1.579min\n",
      "EPOCH 150/1000 \t TRAIN LOSS: 0.001071 \t TEST LOSS: 0.000736 \t TIME: 1.575min\n",
      "EPOCH 151/1000 \t TRAIN LOSS: 0.001041 \t TEST LOSS: 0.000739 \t TIME: 1.583min\n",
      "EPOCH 152/1000 \t TRAIN LOSS: 0.001079 \t TEST LOSS: 0.000726 \t TIME: 1.574min\n",
      "EPOCH 153/1000 \t TRAIN LOSS: 0.001044 \t TEST LOSS: 0.000739 \t TIME: 1.581min\n",
      "EPOCH 154/1000 \t TRAIN LOSS: 0.001045 \t TEST LOSS: 0.000741 \t TIME: 1.573min\n",
      "EPOCH 155/1000 \t TRAIN LOSS: 0.000993 \t TEST LOSS: 0.000752 \t TIME: 1.575min\n",
      "EPOCH 156/1000 \t TRAIN LOSS: 0.001052 \t TEST LOSS: 0.000804 \t TIME: 1.577min\n",
      "EPOCH 157/1000 \t TRAIN LOSS: 0.001082 \t TEST LOSS: 0.00088 \t TIME: 1.584min\n",
      "EPOCH 158/1000 \t TRAIN LOSS: 0.001065 \t TEST LOSS: 0.000784 \t TIME: 1.569min\n",
      "EPOCH 159/1000 \t TRAIN LOSS: 0.001024 \t TEST LOSS: 0.000823 \t TIME: 1.578min\n",
      "EPOCH 160/1000 \t TRAIN LOSS: 0.001036 \t TEST LOSS: 0.000782 \t TIME: 1.565min\n",
      "EPOCH 161/1000 \t TRAIN LOSS: 0.001004 \t TEST LOSS: 0.000684 \t TIME: 1.585min\n",
      "EPOCH 162/1000 \t TRAIN LOSS: 0.00105 \t TEST LOSS: 0.000773 \t TIME: 1.585min\n",
      "EPOCH 163/1000 \t TRAIN LOSS: 0.001095 \t TEST LOSS: 0.000742 \t TIME: 1.566min\n",
      "EPOCH 164/1000 \t TRAIN LOSS: 0.000988 \t TEST LOSS: 0.00066 \t TIME: 1.571min\n",
      "EPOCH 165/1000 \t TRAIN LOSS: 0.000965 \t TEST LOSS: 0.000778 \t TIME: 1.563min\n",
      "EPOCH 166/1000 \t TRAIN LOSS: 0.000999 \t TEST LOSS: 0.000733 \t TIME: 1.57min\n",
      "EPOCH 167/1000 \t TRAIN LOSS: 0.00101 \t TEST LOSS: 0.000878 \t TIME: 1.567min\n",
      "EPOCH 168/1000 \t TRAIN LOSS: 0.000948 \t TEST LOSS: 0.000912 \t TIME: 1.573min\n",
      "EPOCH 169/1000 \t TRAIN LOSS: 0.000955 \t TEST LOSS: 0.000781 \t TIME: 1.574min\n",
      "EPOCH 170/1000 \t TRAIN LOSS: 0.000983 \t TEST LOSS: 0.001153 \t TIME: 1.575min\n",
      "EPOCH 171/1000 \t TRAIN LOSS: 0.000934 \t TEST LOSS: 0.000752 \t TIME: 1.58min\n",
      "EPOCH 172/1000 \t TRAIN LOSS: 0.000947 \t TEST LOSS: 0.000811 \t TIME: 1.575min\n",
      "EPOCH 173/1000 \t TRAIN LOSS: 0.000982 \t TEST LOSS: 0.000718 \t TIME: 1.553min\n",
      "EPOCH 174/1000 \t TRAIN LOSS: 0.00096 \t TEST LOSS: 0.000788 \t TIME: 1.564min\n",
      "EPOCH 175/1000 \t TRAIN LOSS: 0.000968 \t TEST LOSS: 0.000845 \t TIME: 1.569min\n",
      "EPOCH 176/1000 \t TRAIN LOSS: 0.000965 \t TEST LOSS: 0.000701 \t TIME: 1.555min\n",
      "EPOCH 177/1000 \t TRAIN LOSS: 0.000941 \t TEST LOSS: 0.000756 \t TIME: 1.562min\n",
      "EPOCH 178/1000 \t TRAIN LOSS: 0.000988 \t TEST LOSS: 0.000786 \t TIME: 1.579min\n",
      "EPOCH 179/1000 \t TRAIN LOSS: 0.000967 \t TEST LOSS: 0.000715 \t TIME: 1.581min\n",
      "EPOCH 180/1000 \t TRAIN LOSS: 0.000975 \t TEST LOSS: 0.000799 \t TIME: 1.554min\n",
      "EPOCH 181/1000 \t TRAIN LOSS: 0.000922 \t TEST LOSS: 0.000839 \t TIME: 1.578min\n",
      "EPOCH 182/1000 \t TRAIN LOSS: 0.0009 \t TEST LOSS: 0.000803 \t TIME: 1.577min\n",
      "EPOCH 183/1000 \t TRAIN LOSS: 0.000955 \t TEST LOSS: 0.000781 \t TIME: 1.585min\n",
      "EPOCH 184/1000 \t TRAIN LOSS: 0.000998 \t TEST LOSS: 0.000825 \t TIME: 1.558min\n",
      "EPOCH 185/1000 \t TRAIN LOSS: 0.000975 \t TEST LOSS: 0.000825 \t TIME: 1.58min\n",
      "EPOCH 186/1000 \t TRAIN LOSS: 0.000923 \t TEST LOSS: 0.000712 \t TIME: 1.58min\n",
      "EPOCH 187/1000 \t TRAIN LOSS: 0.000958 \t TEST LOSS: 0.000748 \t TIME: 1.562min\n",
      "EPOCH 188/1000 \t TRAIN LOSS: 0.000907 \t TEST LOSS: 0.000643 \t TIME: 1.562min\n",
      "EPOCH 189/1000 \t TRAIN LOSS: 0.000936 \t TEST LOSS: 0.000799 \t TIME: 1.561min\n",
      "EPOCH 190/1000 \t TRAIN LOSS: 0.000928 \t TEST LOSS: 0.000817 \t TIME: 1.568min\n",
      "EPOCH 191/1000 \t TRAIN LOSS: 0.000917 \t TEST LOSS: 0.000747 \t TIME: 1.579min\n",
      "EPOCH 192/1000 \t TRAIN LOSS: 0.000903 \t TEST LOSS: 0.000721 \t TIME: 1.554min\n",
      "EPOCH 193/1000 \t TRAIN LOSS: 0.000874 \t TEST LOSS: 0.000849 \t TIME: 1.577min\n",
      "EPOCH 194/1000 \t TRAIN LOSS: 0.000877 \t TEST LOSS: 0.000754 \t TIME: 1.572min\n",
      "EPOCH 195/1000 \t TRAIN LOSS: 0.000862 \t TEST LOSS: 0.00067 \t TIME: 1.566min\n",
      "EPOCH 196/1000 \t TRAIN LOSS: 0.000875 \t TEST LOSS: 0.000726 \t TIME: 1.586min\n",
      "EPOCH 197/1000 \t TRAIN LOSS: 0.000914 \t TEST LOSS: 0.000712 \t TIME: 1.578min\n",
      "EPOCH 198/1000 \t TRAIN LOSS: 0.00091 \t TEST LOSS: 0.000736 \t TIME: 1.586min\n",
      "EPOCH 199/1000 \t TRAIN LOSS: 0.000909 \t TEST LOSS: 0.000839 \t TIME: 1.573min\n",
      "EPOCH 200/1000 \t TRAIN LOSS: 0.000873 \t TEST LOSS: 0.000775 \t TIME: 1.56min\n",
      "EPOCH 201/1000 \t TRAIN LOSS: 0.000863 \t TEST LOSS: 0.000805 \t TIME: 1.563min\n",
      "EPOCH 202/1000 \t TRAIN LOSS: 0.000894 \t TEST LOSS: 0.000675 \t TIME: 1.584min\n",
      "EPOCH 203/1000 \t TRAIN LOSS: 0.00086 \t TEST LOSS: 0.000696 \t TIME: 1.571min\n",
      "EPOCH 204/1000 \t TRAIN LOSS: 0.000874 \t TEST LOSS: 0.000659 \t TIME: 1.561min\n",
      "EPOCH 205/1000 \t TRAIN LOSS: 0.000865 \t TEST LOSS: 0.000708 \t TIME: 1.582min\n",
      "EPOCH 206/1000 \t TRAIN LOSS: 0.000902 \t TEST LOSS: 0.000608 \t TIME: 1.579min\n",
      "EPOCH 207/1000 \t TRAIN LOSS: 0.000867 \t TEST LOSS: 0.000704 \t TIME: 1.568min\n",
      "EPOCH 208/1000 \t TRAIN LOSS: 0.000906 \t TEST LOSS: 0.000827 \t TIME: 1.571min\n",
      "EPOCH 209/1000 \t TRAIN LOSS: 0.000845 \t TEST LOSS: 0.000741 \t TIME: 1.575min\n",
      "EPOCH 210/1000 \t TRAIN LOSS: 0.00086 \t TEST LOSS: 0.000761 \t TIME: 1.573min\n",
      "EPOCH 211/1000 \t TRAIN LOSS: 0.000897 \t TEST LOSS: 0.000764 \t TIME: 1.575min\n",
      "EPOCH 212/1000 \t TRAIN LOSS: 0.000794 \t TEST LOSS: 0.000786 \t TIME: 1.584min\n",
      "EPOCH 213/1000 \t TRAIN LOSS: 0.000861 \t TEST LOSS: 0.000719 \t TIME: 1.563min\n",
      "EPOCH 214/1000 \t TRAIN LOSS: 0.000832 \t TEST LOSS: 0.000664 \t TIME: 1.583min\n",
      "EPOCH 215/1000 \t TRAIN LOSS: 0.000833 \t TEST LOSS: 0.000858 \t TIME: 1.576min\n",
      "EPOCH 216/1000 \t TRAIN LOSS: 0.000803 \t TEST LOSS: 0.000768 \t TIME: 1.573min\n",
      "EPOCH 217/1000 \t TRAIN LOSS: 0.000828 \t TEST LOSS: 0.000744 \t TIME: 1.577min\n",
      "EPOCH 218/1000 \t TRAIN LOSS: 0.000812 \t TEST LOSS: 0.000684 \t TIME: 1.574min\n",
      "EPOCH 219/1000 \t TRAIN LOSS: 0.000826 \t TEST LOSS: 0.000805 \t TIME: 1.58min\n",
      "EPOCH 220/1000 \t TRAIN LOSS: 0.000892 \t TEST LOSS: 0.000651 \t TIME: 1.581min\n",
      "EPOCH 221/1000 \t TRAIN LOSS: 0.000844 \t TEST LOSS: 0.000788 \t TIME: 1.573min\n",
      "EPOCH 222/1000 \t TRAIN LOSS: 0.000852 \t TEST LOSS: 0.000836 \t TIME: 1.588min\n",
      "EPOCH 223/1000 \t TRAIN LOSS: 0.000821 \t TEST LOSS: 0.000851 \t TIME: 1.591min\n",
      "EPOCH 224/1000 \t TRAIN LOSS: 0.00086 \t TEST LOSS: 0.000819 \t TIME: 1.59min\n",
      "EPOCH 225/1000 \t TRAIN LOSS: 0.000846 \t TEST LOSS: 0.000854 \t TIME: 1.557min\n",
      "EPOCH 226/1000 \t TRAIN LOSS: 0.000792 \t TEST LOSS: 0.000854 \t TIME: 1.572min\n",
      "EPOCH 227/1000 \t TRAIN LOSS: 0.000811 \t TEST LOSS: 0.000791 \t TIME: 1.568min\n",
      "EPOCH 228/1000 \t TRAIN LOSS: 0.000796 \t TEST LOSS: 0.000748 \t TIME: 1.57min\n",
      "EPOCH 229/1000 \t TRAIN LOSS: 0.000813 \t TEST LOSS: 0.000868 \t TIME: 1.583min\n",
      "EPOCH 230/1000 \t TRAIN LOSS: 0.000843 \t TEST LOSS: 0.000776 \t TIME: 1.572min\n",
      "EPOCH 231/1000 \t TRAIN LOSS: 0.000825 \t TEST LOSS: 0.000946 \t TIME: 1.568min\n",
      "EPOCH 232/1000 \t TRAIN LOSS: 0.000815 \t TEST LOSS: 0.000866 \t TIME: 1.581min\n",
      "EPOCH 233/1000 \t TRAIN LOSS: 0.000789 \t TEST LOSS: 0.000787 \t TIME: 1.589min\n",
      "EPOCH 234/1000 \t TRAIN LOSS: 0.000765 \t TEST LOSS: 0.000706 \t TIME: 1.594min\n",
      "EPOCH 235/1000 \t TRAIN LOSS: 0.000792 \t TEST LOSS: 0.00073 \t TIME: 1.584min\n",
      "EPOCH 236/1000 \t TRAIN LOSS: 0.000813 \t TEST LOSS: 0.000733 \t TIME: 1.575min\n",
      "EPOCH 237/1000 \t TRAIN LOSS: 0.000765 \t TEST LOSS: 0.000712 \t TIME: 1.589min\n",
      "EPOCH 238/1000 \t TRAIN LOSS: 0.000808 \t TEST LOSS: 0.000755 \t TIME: 1.574min\n",
      "EPOCH 239/1000 \t TRAIN LOSS: 0.000799 \t TEST LOSS: 0.00076 \t TIME: 1.577min\n",
      "EPOCH 240/1000 \t TRAIN LOSS: 0.000783 \t TEST LOSS: 0.000833 \t TIME: 1.591min\n",
      "EPOCH 241/1000 \t TRAIN LOSS: 0.000761 \t TEST LOSS: 0.000734 \t TIME: 1.568min\n",
      "EPOCH 242/1000 \t TRAIN LOSS: 0.000791 \t TEST LOSS: 0.000727 \t TIME: 1.572min\n",
      "EPOCH 243/1000 \t TRAIN LOSS: 0.000807 \t TEST LOSS: 0.000851 \t TIME: 1.585min\n",
      "EPOCH 244/1000 \t TRAIN LOSS: 0.00078 \t TEST LOSS: 0.000748 \t TIME: 1.558min\n",
      "EPOCH 245/1000 \t TRAIN LOSS: 0.00078 \t TEST LOSS: 0.000634 \t TIME: 1.579min\n",
      "EPOCH 246/1000 \t TRAIN LOSS: 0.000769 \t TEST LOSS: 0.00075 \t TIME: 1.557min\n",
      "EPOCH 247/1000 \t TRAIN LOSS: 0.000756 \t TEST LOSS: 0.000706 \t TIME: 1.58min\n",
      "EPOCH 248/1000 \t TRAIN LOSS: 0.000725 \t TEST LOSS: 0.000641 \t TIME: 1.576min\n",
      "EPOCH 249/1000 \t TRAIN LOSS: 0.000758 \t TEST LOSS: 0.000874 \t TIME: 1.591min\n",
      "EPOCH 250/1000 \t TRAIN LOSS: 0.000753 \t TEST LOSS: 0.000907 \t TIME: 1.579min\n",
      "EPOCH 251/1000 \t TRAIN LOSS: 0.000757 \t TEST LOSS: 0.000705 \t TIME: 1.575min\n",
      "EPOCH 252/1000 \t TRAIN LOSS: 0.000786 \t TEST LOSS: 0.000701 \t TIME: 1.581min\n",
      "EPOCH 253/1000 \t TRAIN LOSS: 0.000803 \t TEST LOSS: 0.000911 \t TIME: 1.575min\n",
      "EPOCH 254/1000 \t TRAIN LOSS: 0.000767 \t TEST LOSS: 0.000808 \t TIME: 1.568min\n",
      "EPOCH 255/1000 \t TRAIN LOSS: 0.00071 \t TEST LOSS: 0.000631 \t TIME: 1.585min\n",
      "EPOCH 256/1000 \t TRAIN LOSS: 0.000779 \t TEST LOSS: 0.000728 \t TIME: 1.571min\n",
      "EPOCH 257/1000 \t TRAIN LOSS: 0.000756 \t TEST LOSS: 0.000783 \t TIME: 1.562min\n",
      "EPOCH 258/1000 \t TRAIN LOSS: 0.000805 \t TEST LOSS: 0.000836 \t TIME: 1.564min\n",
      "EPOCH 259/1000 \t TRAIN LOSS: 0.000784 \t TEST LOSS: 0.000665 \t TIME: 1.574min\n",
      "EPOCH 260/1000 \t TRAIN LOSS: 0.000757 \t TEST LOSS: 0.000765 \t TIME: 1.59min\n",
      "EPOCH 261/1000 \t TRAIN LOSS: 0.000734 \t TEST LOSS: 0.000764 \t TIME: 1.575min\n",
      "EPOCH 262/1000 \t TRAIN LOSS: 0.000733 \t TEST LOSS: 0.000805 \t TIME: 1.57min\n",
      "EPOCH 263/1000 \t TRAIN LOSS: 0.000704 \t TEST LOSS: 0.00071 \t TIME: 1.581min\n",
      "EPOCH 264/1000 \t TRAIN LOSS: 0.000739 \t TEST LOSS: 0.000689 \t TIME: 1.582min\n",
      "EPOCH 265/1000 \t TRAIN LOSS: 0.00076 \t TEST LOSS: 0.0008 \t TIME: 1.584min\n",
      "EPOCH 266/1000 \t TRAIN LOSS: 0.000789 \t TEST LOSS: 0.000803 \t TIME: 1.578min\n",
      "EPOCH 267/1000 \t TRAIN LOSS: 0.000711 \t TEST LOSS: 0.000772 \t TIME: 1.587min\n",
      "EPOCH 268/1000 \t TRAIN LOSS: 0.000688 \t TEST LOSS: 0.000809 \t TIME: 1.567min\n",
      "EPOCH 269/1000 \t TRAIN LOSS: 0.000741 \t TEST LOSS: 0.00075 \t TIME: 1.566min\n",
      "EPOCH 270/1000 \t TRAIN LOSS: 0.000772 \t TEST LOSS: 0.000761 \t TIME: 1.551min\n",
      "EPOCH 271/1000 \t TRAIN LOSS: 0.000699 \t TEST LOSS: 0.000756 \t TIME: 1.569min\n",
      "EPOCH 272/1000 \t TRAIN LOSS: 0.000716 \t TEST LOSS: 0.000752 \t TIME: 1.577min\n",
      "EPOCH 273/1000 \t TRAIN LOSS: 0.00073 \t TEST LOSS: 0.00073 \t TIME: 1.575min\n",
      "EPOCH 274/1000 \t TRAIN LOSS: 0.00074 \t TEST LOSS: 0.000802 \t TIME: 1.579min\n",
      "EPOCH 275/1000 \t TRAIN LOSS: 0.000747 \t TEST LOSS: 0.000725 \t TIME: 1.579min\n",
      "EPOCH 276/1000 \t TRAIN LOSS: 0.000683 \t TEST LOSS: 0.000781 \t TIME: 1.564min\n",
      "EPOCH 277/1000 \t TRAIN LOSS: 0.00076 \t TEST LOSS: 0.000713 \t TIME: 1.574min\n",
      "EPOCH 278/1000 \t TRAIN LOSS: 0.000708 \t TEST LOSS: 0.000884 \t TIME: 1.579min\n",
      "EPOCH 279/1000 \t TRAIN LOSS: 0.000718 \t TEST LOSS: 0.000674 \t TIME: 1.571min\n",
      "EPOCH 280/1000 \t TRAIN LOSS: 0.000713 \t TEST LOSS: 0.0007 \t TIME: 1.579min\n",
      "EPOCH 281/1000 \t TRAIN LOSS: 0.000732 \t TEST LOSS: 0.000744 \t TIME: 1.574min\n",
      "EPOCH 282/1000 \t TRAIN LOSS: 0.000717 \t TEST LOSS: 0.000633 \t TIME: 1.573min\n",
      "EPOCH 283/1000 \t TRAIN LOSS: 0.000677 \t TEST LOSS: 0.000706 \t TIME: 1.571min\n",
      "EPOCH 284/1000 \t TRAIN LOSS: 0.000691 \t TEST LOSS: 0.000742 \t TIME: 1.567min\n",
      "EPOCH 285/1000 \t TRAIN LOSS: 0.000676 \t TEST LOSS: 0.000756 \t TIME: 1.581min\n",
      "EPOCH 286/1000 \t TRAIN LOSS: 0.000748 \t TEST LOSS: 0.000683 \t TIME: 1.558min\n",
      "EPOCH 287/1000 \t TRAIN LOSS: 0.000695 \t TEST LOSS: 0.00097 \t TIME: 1.569min\n",
      "EPOCH 288/1000 \t TRAIN LOSS: 0.000702 \t TEST LOSS: 0.000757 \t TIME: 1.551min\n",
      "EPOCH 289/1000 \t TRAIN LOSS: 0.000703 \t TEST LOSS: 0.000839 \t TIME: 1.577min\n",
      "EPOCH 290/1000 \t TRAIN LOSS: 0.000713 \t TEST LOSS: 0.000742 \t TIME: 1.571min\n",
      "EPOCH 291/1000 \t TRAIN LOSS: 0.000731 \t TEST LOSS: 0.00072 \t TIME: 1.578min\n",
      "EPOCH 292/1000 \t TRAIN LOSS: 0.000717 \t TEST LOSS: 0.000831 \t TIME: 1.59min\n",
      "EPOCH 293/1000 \t TRAIN LOSS: 0.000689 \t TEST LOSS: 0.000768 \t TIME: 1.578min\n",
      "EPOCH 294/1000 \t TRAIN LOSS: 0.0007 \t TEST LOSS: 0.000834 \t TIME: 1.592min\n",
      "EPOCH 295/1000 \t TRAIN LOSS: 0.000672 \t TEST LOSS: 0.000817 \t TIME: 1.58min\n",
      "EPOCH 296/1000 \t TRAIN LOSS: 0.000671 \t TEST LOSS: 0.000737 \t TIME: 1.586min\n",
      "EPOCH 297/1000 \t TRAIN LOSS: 0.000673 \t TEST LOSS: 0.000758 \t TIME: 1.571min\n",
      "EPOCH 298/1000 \t TRAIN LOSS: 0.000682 \t TEST LOSS: 0.000785 \t TIME: 1.567min\n",
      "EPOCH 299/1000 \t TRAIN LOSS: 0.000732 \t TEST LOSS: 0.000767 \t TIME: 1.575min\n",
      "EPOCH 300/1000 \t TRAIN LOSS: 0.000655 \t TEST LOSS: 0.000732 \t TIME: 1.571min\n",
      "EPOCH 301/1000 \t TRAIN LOSS: 0.000696 \t TEST LOSS: 0.0008 \t TIME: 1.574min\n",
      "EPOCH 302/1000 \t TRAIN LOSS: 0.000663 \t TEST LOSS: 0.000666 \t TIME: 1.572min\n",
      "EPOCH 303/1000 \t TRAIN LOSS: 0.00066 \t TEST LOSS: 0.00072 \t TIME: 1.581min\n",
      "EPOCH 304/1000 \t TRAIN LOSS: 0.00069 \t TEST LOSS: 0.000659 \t TIME: 1.562min\n",
      "EPOCH 305/1000 \t TRAIN LOSS: 0.000684 \t TEST LOSS: 0.000685 \t TIME: 1.576min\n",
      "EPOCH 306/1000 \t TRAIN LOSS: 0.000673 \t TEST LOSS: 0.000754 \t TIME: 1.579min\n",
      "EPOCH 307/1000 \t TRAIN LOSS: 0.000703 \t TEST LOSS: 0.000822 \t TIME: 1.574min\n",
      "EPOCH 308/1000 \t TRAIN LOSS: 0.000681 \t TEST LOSS: 0.000788 \t TIME: 1.572min\n",
      "EPOCH 309/1000 \t TRAIN LOSS: 0.000675 \t TEST LOSS: 0.000799 \t TIME: 1.578min\n",
      "EPOCH 310/1000 \t TRAIN LOSS: 0.000681 \t TEST LOSS: 0.000799 \t TIME: 1.583min\n",
      "EPOCH 311/1000 \t TRAIN LOSS: 0.00065 \t TEST LOSS: 0.000835 \t TIME: 1.58min\n",
      "EPOCH 312/1000 \t TRAIN LOSS: 0.000667 \t TEST LOSS: 0.000764 \t TIME: 1.578min\n",
      "EPOCH 313/1000 \t TRAIN LOSS: 0.00067 \t TEST LOSS: 0.000842 \t TIME: 1.586min\n",
      "EPOCH 314/1000 \t TRAIN LOSS: 0.000652 \t TEST LOSS: 0.000735 \t TIME: 1.582min\n",
      "EPOCH 315/1000 \t TRAIN LOSS: 0.000657 \t TEST LOSS: 0.000734 \t TIME: 1.57min\n",
      "EPOCH 316/1000 \t TRAIN LOSS: 0.000633 \t TEST LOSS: 0.000745 \t TIME: 1.597min\n",
      "EPOCH 317/1000 \t TRAIN LOSS: 0.000648 \t TEST LOSS: 0.000736 \t TIME: 1.568min\n",
      "EPOCH 318/1000 \t TRAIN LOSS: 0.000651 \t TEST LOSS: 0.00071 \t TIME: 1.561min\n",
      "EPOCH 319/1000 \t TRAIN LOSS: 0.000695 \t TEST LOSS: 0.000702 \t TIME: 1.586min\n",
      "EPOCH 320/1000 \t TRAIN LOSS: 0.000678 \t TEST LOSS: 0.000736 \t TIME: 1.592min\n",
      "EPOCH 321/1000 \t TRAIN LOSS: 0.000662 \t TEST LOSS: 0.000712 \t TIME: 1.577min\n",
      "EPOCH 322/1000 \t TRAIN LOSS: 0.000633 \t TEST LOSS: 0.000675 \t TIME: 1.597min\n",
      "EPOCH 323/1000 \t TRAIN LOSS: 0.000667 \t TEST LOSS: 0.000832 \t TIME: 1.563min\n",
      "EPOCH 324/1000 \t TRAIN LOSS: 0.000736 \t TEST LOSS: 0.000859 \t TIME: 1.562min\n",
      "EPOCH 325/1000 \t TRAIN LOSS: 0.00065 \t TEST LOSS: 0.000806 \t TIME: 1.564min\n",
      "EPOCH 326/1000 \t TRAIN LOSS: 0.000685 \t TEST LOSS: 0.000622 \t TIME: 1.572min\n",
      "EPOCH 327/1000 \t TRAIN LOSS: 0.000615 \t TEST LOSS: 0.000702 \t TIME: 1.572min\n",
      "EPOCH 328/1000 \t TRAIN LOSS: 0.000659 \t TEST LOSS: 0.000704 \t TIME: 1.577min\n",
      "EPOCH 329/1000 \t TRAIN LOSS: 0.000642 \t TEST LOSS: 0.000795 \t TIME: 1.569min\n",
      "EPOCH 330/1000 \t TRAIN LOSS: 0.000617 \t TEST LOSS: 0.000656 \t TIME: 1.572min\n",
      "EPOCH 331/1000 \t TRAIN LOSS: 0.000681 \t TEST LOSS: 0.000665 \t TIME: 1.579min\n",
      "EPOCH 332/1000 \t TRAIN LOSS: 0.000637 \t TEST LOSS: 0.000712 \t TIME: 1.572min\n",
      "EPOCH 333/1000 \t TRAIN LOSS: 0.000618 \t TEST LOSS: 0.000767 \t TIME: 1.585min\n",
      "EPOCH 334/1000 \t TRAIN LOSS: 0.000646 \t TEST LOSS: 0.000726 \t TIME: 1.573min\n",
      "EPOCH 335/1000 \t TRAIN LOSS: 0.000636 \t TEST LOSS: 0.000613 \t TIME: 1.571min\n",
      "EPOCH 336/1000 \t TRAIN LOSS: 0.000628 \t TEST LOSS: 0.000593 \t TIME: 1.584min\n",
      "EPOCH 337/1000 \t TRAIN LOSS: 0.000657 \t TEST LOSS: 0.000834 \t TIME: 1.58min\n",
      "EPOCH 338/1000 \t TRAIN LOSS: 0.000621 \t TEST LOSS: 0.00072 \t TIME: 1.575min\n",
      "EPOCH 339/1000 \t TRAIN LOSS: 0.000619 \t TEST LOSS: 0.00064 \t TIME: 1.579min\n",
      "EPOCH 340/1000 \t TRAIN LOSS: 0.000602 \t TEST LOSS: 0.000714 \t TIME: 1.572min\n",
      "EPOCH 341/1000 \t TRAIN LOSS: 0.000623 \t TEST LOSS: 0.000725 \t TIME: 1.572min\n",
      "EPOCH 342/1000 \t TRAIN LOSS: 0.000638 \t TEST LOSS: 0.000723 \t TIME: 1.592min\n",
      "EPOCH 343/1000 \t TRAIN LOSS: 0.000641 \t TEST LOSS: 0.000701 \t TIME: 1.588min\n",
      "EPOCH 344/1000 \t TRAIN LOSS: 0.000632 \t TEST LOSS: 0.000666 \t TIME: 1.589min\n",
      "EPOCH 345/1000 \t TRAIN LOSS: 0.000584 \t TEST LOSS: 0.000638 \t TIME: 1.571min\n",
      "EPOCH 346/1000 \t TRAIN LOSS: 0.000602 \t TEST LOSS: 0.000607 \t TIME: 1.585min\n",
      "EPOCH 347/1000 \t TRAIN LOSS: 0.000684 \t TEST LOSS: 0.000707 \t TIME: 1.582min\n",
      "EPOCH 348/1000 \t TRAIN LOSS: 0.000632 \t TEST LOSS: 0.000682 \t TIME: 1.586min\n",
      "EPOCH 349/1000 \t TRAIN LOSS: 0.000618 \t TEST LOSS: 0.000639 \t TIME: 1.576min\n",
      "EPOCH 350/1000 \t TRAIN LOSS: 0.000616 \t TEST LOSS: 0.000726 \t TIME: 1.588min\n",
      "EPOCH 351/1000 \t TRAIN LOSS: 0.000616 \t TEST LOSS: 0.000723 \t TIME: 1.571min\n",
      "EPOCH 352/1000 \t TRAIN LOSS: 0.000598 \t TEST LOSS: 0.000642 \t TIME: 1.591min\n",
      "EPOCH 353/1000 \t TRAIN LOSS: 0.000667 \t TEST LOSS: 0.000781 \t TIME: 1.586min\n",
      "EPOCH 354/1000 \t TRAIN LOSS: 0.000621 \t TEST LOSS: 0.000748 \t TIME: 1.574min\n",
      "EPOCH 355/1000 \t TRAIN LOSS: 0.0006 \t TEST LOSS: 0.000672 \t TIME: 1.57min\n",
      "EPOCH 356/1000 \t TRAIN LOSS: 0.000631 \t TEST LOSS: 0.000665 \t TIME: 1.583min\n",
      "EPOCH 357/1000 \t TRAIN LOSS: 0.000636 \t TEST LOSS: 0.0007 \t TIME: 1.572min\n",
      "EPOCH 358/1000 \t TRAIN LOSS: 0.000648 \t TEST LOSS: 0.000655 \t TIME: 1.555min\n",
      "EPOCH 359/1000 \t TRAIN LOSS: 0.000589 \t TEST LOSS: 0.000611 \t TIME: 1.57min\n",
      "EPOCH 360/1000 \t TRAIN LOSS: 0.000609 \t TEST LOSS: 0.00078 \t TIME: 1.57min\n",
      "EPOCH 361/1000 \t TRAIN LOSS: 0.000615 \t TEST LOSS: 0.000774 \t TIME: 1.577min\n",
      "EPOCH 362/1000 \t TRAIN LOSS: 0.000636 \t TEST LOSS: 0.000772 \t TIME: 1.568min\n",
      "EPOCH 363/1000 \t TRAIN LOSS: 0.000607 \t TEST LOSS: 0.000738 \t TIME: 1.578min\n",
      "EPOCH 364/1000 \t TRAIN LOSS: 0.000591 \t TEST LOSS: 0.000637 \t TIME: 1.581min\n",
      "EPOCH 365/1000 \t TRAIN LOSS: 0.000563 \t TEST LOSS: 0.000613 \t TIME: 1.586min\n",
      "EPOCH 366/1000 \t TRAIN LOSS: 0.000629 \t TEST LOSS: 0.000699 \t TIME: 1.568min\n",
      "EPOCH 367/1000 \t TRAIN LOSS: 0.000631 \t TEST LOSS: 0.000679 \t TIME: 1.585min\n",
      "EPOCH 368/1000 \t TRAIN LOSS: 0.000582 \t TEST LOSS: 0.00073 \t TIME: 1.575min\n",
      "EPOCH 369/1000 \t TRAIN LOSS: 0.000621 \t TEST LOSS: 0.000665 \t TIME: 1.576min\n",
      "EPOCH 370/1000 \t TRAIN LOSS: 0.000618 \t TEST LOSS: 0.000647 \t TIME: 1.571min\n",
      "EPOCH 371/1000 \t TRAIN LOSS: 0.000572 \t TEST LOSS: 0.00061 \t TIME: 1.572min\n",
      "EPOCH 372/1000 \t TRAIN LOSS: 0.000606 \t TEST LOSS: 0.000662 \t TIME: 1.57min\n",
      "EPOCH 373/1000 \t TRAIN LOSS: 0.000601 \t TEST LOSS: 0.000661 \t TIME: 1.577min\n",
      "EPOCH 374/1000 \t TRAIN LOSS: 0.000629 \t TEST LOSS: 0.000702 \t TIME: 1.575min\n",
      "EPOCH 375/1000 \t TRAIN LOSS: 0.000642 \t TEST LOSS: 0.000751 \t TIME: 1.577min\n",
      "EPOCH 376/1000 \t TRAIN LOSS: 0.000597 \t TEST LOSS: 0.00073 \t TIME: 1.583min\n",
      "EPOCH 377/1000 \t TRAIN LOSS: 0.000611 \t TEST LOSS: 0.000751 \t TIME: 1.562min\n",
      "EPOCH 378/1000 \t TRAIN LOSS: 0.000581 \t TEST LOSS: 0.00071 \t TIME: 1.565min\n",
      "EPOCH 379/1000 \t TRAIN LOSS: 0.000589 \t TEST LOSS: 0.000646 \t TIME: 1.562min\n",
      "EPOCH 380/1000 \t TRAIN LOSS: 0.000583 \t TEST LOSS: 0.000699 \t TIME: 1.573min\n",
      "EPOCH 381/1000 \t TRAIN LOSS: 0.000554 \t TEST LOSS: 0.000764 \t TIME: 1.593min\n",
      "EPOCH 382/1000 \t TRAIN LOSS: 0.000548 \t TEST LOSS: 0.000652 \t TIME: 1.603min\n",
      "EPOCH 383/1000 \t TRAIN LOSS: 0.000572 \t TEST LOSS: 0.000711 \t TIME: 1.573min\n",
      "EPOCH 384/1000 \t TRAIN LOSS: 0.000555 \t TEST LOSS: 0.000761 \t TIME: 1.588min\n",
      "EPOCH 385/1000 \t TRAIN LOSS: 0.000606 \t TEST LOSS: 0.00074 \t TIME: 1.576min\n",
      "EPOCH 386/1000 \t TRAIN LOSS: 0.000612 \t TEST LOSS: 0.000752 \t TIME: 1.564min\n",
      "EPOCH 387/1000 \t TRAIN LOSS: 0.000622 \t TEST LOSS: 0.000724 \t TIME: 1.587min\n",
      "EPOCH 388/1000 \t TRAIN LOSS: 0.000571 \t TEST LOSS: 0.000741 \t TIME: 1.573min\n",
      "EPOCH 389/1000 \t TRAIN LOSS: 0.000579 \t TEST LOSS: 0.000659 \t TIME: 1.559min\n",
      "EPOCH 390/1000 \t TRAIN LOSS: 0.000602 \t TEST LOSS: 0.000636 \t TIME: 1.578min\n",
      "EPOCH 391/1000 \t TRAIN LOSS: 0.000583 \t TEST LOSS: 0.000641 \t TIME: 1.597min\n",
      "EPOCH 392/1000 \t TRAIN LOSS: 0.000611 \t TEST LOSS: 0.000747 \t TIME: 1.594min\n",
      "EPOCH 393/1000 \t TRAIN LOSS: 0.000563 \t TEST LOSS: 0.000781 \t TIME: 1.577min\n",
      "EPOCH 394/1000 \t TRAIN LOSS: 0.000614 \t TEST LOSS: 0.000704 \t TIME: 1.59min\n",
      "EPOCH 395/1000 \t TRAIN LOSS: 0.000573 \t TEST LOSS: 0.000577 \t TIME: 1.585min\n",
      "EPOCH 396/1000 \t TRAIN LOSS: 0.000608 \t TEST LOSS: 0.000716 \t TIME: 1.574min\n",
      "EPOCH 397/1000 \t TRAIN LOSS: 0.000551 \t TEST LOSS: 0.000681 \t TIME: 1.594min\n",
      "EPOCH 398/1000 \t TRAIN LOSS: 0.000627 \t TEST LOSS: 0.000687 \t TIME: 1.589min\n",
      "EPOCH 399/1000 \t TRAIN LOSS: 0.000599 \t TEST LOSS: 0.000653 \t TIME: 1.575min\n",
      "EPOCH 400/1000 \t TRAIN LOSS: 0.000578 \t TEST LOSS: 0.000739 \t TIME: 1.596min\n",
      "EPOCH 401/1000 \t TRAIN LOSS: 0.000576 \t TEST LOSS: 0.000676 \t TIME: 1.586min\n",
      "EPOCH 402/1000 \t TRAIN LOSS: 0.000592 \t TEST LOSS: 0.000815 \t TIME: 1.589min\n",
      "EPOCH 403/1000 \t TRAIN LOSS: 0.000611 \t TEST LOSS: 0.000712 \t TIME: 1.58min\n",
      "EPOCH 404/1000 \t TRAIN LOSS: 0.000588 \t TEST LOSS: 0.000796 \t TIME: 1.574min\n",
      "EPOCH 405/1000 \t TRAIN LOSS: 0.000614 \t TEST LOSS: 0.000622 \t TIME: 1.584min\n",
      "EPOCH 406/1000 \t TRAIN LOSS: 0.000587 \t TEST LOSS: 0.000657 \t TIME: 1.572min\n",
      "EPOCH 407/1000 \t TRAIN LOSS: 0.000593 \t TEST LOSS: 0.000651 \t TIME: 1.57min\n",
      "EPOCH 408/1000 \t TRAIN LOSS: 0.000583 \t TEST LOSS: 0.000601 \t TIME: 1.585min\n",
      "EPOCH 409/1000 \t TRAIN LOSS: 0.000569 \t TEST LOSS: 0.000628 \t TIME: 1.575min\n",
      "EPOCH 410/1000 \t TRAIN LOSS: 0.000633 \t TEST LOSS: 0.000741 \t TIME: 1.59min\n",
      "EPOCH 411/1000 \t TRAIN LOSS: 0.000598 \t TEST LOSS: 0.000583 \t TIME: 1.573min\n",
      "EPOCH 412/1000 \t TRAIN LOSS: 0.000529 \t TEST LOSS: 0.000682 \t TIME: 1.581min\n",
      "EPOCH 413/1000 \t TRAIN LOSS: 0.000551 \t TEST LOSS: 0.000696 \t TIME: 1.585min\n",
      "EPOCH 414/1000 \t TRAIN LOSS: 0.000556 \t TEST LOSS: 0.000697 \t TIME: 1.594min\n",
      "EPOCH 415/1000 \t TRAIN LOSS: 0.000563 \t TEST LOSS: 0.000757 \t TIME: 1.581min\n",
      "EPOCH 416/1000 \t TRAIN LOSS: 0.000544 \t TEST LOSS: 0.000802 \t TIME: 1.575min\n",
      "EPOCH 417/1000 \t TRAIN LOSS: 0.000549 \t TEST LOSS: 0.000698 \t TIME: 1.582min\n",
      "EPOCH 418/1000 \t TRAIN LOSS: 0.000575 \t TEST LOSS: 0.000729 \t TIME: 1.569min\n",
      "EPOCH 419/1000 \t TRAIN LOSS: 0.000549 \t TEST LOSS: 0.000789 \t TIME: 1.569min\n",
      "EPOCH 420/1000 \t TRAIN LOSS: 0.000536 \t TEST LOSS: 0.000726 \t TIME: 1.571min\n",
      "EPOCH 421/1000 \t TRAIN LOSS: 0.000549 \t TEST LOSS: 0.000681 \t TIME: 1.578min\n",
      "EPOCH 422/1000 \t TRAIN LOSS: 0.000578 \t TEST LOSS: 0.000857 \t TIME: 1.572min\n",
      "EPOCH 423/1000 \t TRAIN LOSS: 0.000571 \t TEST LOSS: 0.000761 \t TIME: 1.559min\n",
      "EPOCH 424/1000 \t TRAIN LOSS: 0.000539 \t TEST LOSS: 0.000778 \t TIME: 1.578min\n",
      "EPOCH 425/1000 \t TRAIN LOSS: 0.000523 \t TEST LOSS: 0.000815 \t TIME: 1.581min\n",
      "EPOCH 426/1000 \t TRAIN LOSS: 0.000539 \t TEST LOSS: 0.000901 \t TIME: 1.577min\n",
      "EPOCH 427/1000 \t TRAIN LOSS: 0.000583 \t TEST LOSS: 0.000879 \t TIME: 1.59min\n",
      "EPOCH 428/1000 \t TRAIN LOSS: 0.000561 \t TEST LOSS: 0.000726 \t TIME: 1.551min\n",
      "EPOCH 429/1000 \t TRAIN LOSS: 0.000523 \t TEST LOSS: 0.000878 \t TIME: 1.578min\n",
      "EPOCH 430/1000 \t TRAIN LOSS: 0.000534 \t TEST LOSS: 0.000859 \t TIME: 1.58min\n",
      "EPOCH 431/1000 \t TRAIN LOSS: 0.00056 \t TEST LOSS: 0.000785 \t TIME: 1.575min\n",
      "EPOCH 432/1000 \t TRAIN LOSS: 0.00057 \t TEST LOSS: 0.000793 \t TIME: 1.585min\n",
      "EPOCH 433/1000 \t TRAIN LOSS: 0.000611 \t TEST LOSS: 0.000799 \t TIME: 1.583min\n",
      "EPOCH 434/1000 \t TRAIN LOSS: 0.000535 \t TEST LOSS: 0.000891 \t TIME: 1.572min\n",
      "EPOCH 435/1000 \t TRAIN LOSS: 0.000543 \t TEST LOSS: 0.000772 \t TIME: 1.578min\n",
      "EPOCH 436/1000 \t TRAIN LOSS: 0.000547 \t TEST LOSS: 0.000821 \t TIME: 1.586min\n",
      "EPOCH 437/1000 \t TRAIN LOSS: 0.000575 \t TEST LOSS: 0.000818 \t TIME: 1.571min\n",
      "EPOCH 438/1000 \t TRAIN LOSS: 0.000563 \t TEST LOSS: 0.00081 \t TIME: 1.591min\n",
      "EPOCH 439/1000 \t TRAIN LOSS: 0.000536 \t TEST LOSS: 0.000746 \t TIME: 1.579min\n",
      "EPOCH 440/1000 \t TRAIN LOSS: 0.000509 \t TEST LOSS: 0.000763 \t TIME: 1.58min\n",
      "EPOCH 441/1000 \t TRAIN LOSS: 0.000538 \t TEST LOSS: 0.000709 \t TIME: 1.568min\n",
      "EPOCH 442/1000 \t TRAIN LOSS: 0.000543 \t TEST LOSS: 0.00082 \t TIME: 1.583min\n",
      "EPOCH 443/1000 \t TRAIN LOSS: 0.00054 \t TEST LOSS: 0.000783 \t TIME: 1.59min\n",
      "EPOCH 444/1000 \t TRAIN LOSS: 0.000546 \t TEST LOSS: 0.000804 \t TIME: 1.584min\n",
      "EPOCH 445/1000 \t TRAIN LOSS: 0.000569 \t TEST LOSS: 0.000767 \t TIME: 1.573min\n",
      "EPOCH 446/1000 \t TRAIN LOSS: 0.000542 \t TEST LOSS: 0.000826 \t TIME: 1.568min\n",
      "EPOCH 447/1000 \t TRAIN LOSS: 0.00052 \t TEST LOSS: 0.000683 \t TIME: 1.585min\n",
      "EPOCH 448/1000 \t TRAIN LOSS: 0.000538 \t TEST LOSS: 0.000825 \t TIME: 1.579min\n",
      "EPOCH 449/1000 \t TRAIN LOSS: 0.000566 \t TEST LOSS: 0.00079 \t TIME: 1.555min\n",
      "EPOCH 450/1000 \t TRAIN LOSS: 0.000574 \t TEST LOSS: 0.000759 \t TIME: 1.592min\n",
      "EPOCH 451/1000 \t TRAIN LOSS: 0.000557 \t TEST LOSS: 0.000736 \t TIME: 1.573min\n",
      "EPOCH 452/1000 \t TRAIN LOSS: 0.000549 \t TEST LOSS: 0.000779 \t TIME: 1.582min\n",
      "EPOCH 453/1000 \t TRAIN LOSS: 0.00052 \t TEST LOSS: 0.000835 \t TIME: 1.572min\n",
      "EPOCH 454/1000 \t TRAIN LOSS: 0.000535 \t TEST LOSS: 0.000725 \t TIME: 1.592min\n",
      "EPOCH 455/1000 \t TRAIN LOSS: 0.000539 \t TEST LOSS: 0.000711 \t TIME: 1.571min\n",
      "EPOCH 456/1000 \t TRAIN LOSS: 0.000512 \t TEST LOSS: 0.000733 \t TIME: 1.584min\n",
      "EPOCH 457/1000 \t TRAIN LOSS: 0.000521 \t TEST LOSS: 0.000697 \t TIME: 1.563min\n",
      "EPOCH 458/1000 \t TRAIN LOSS: 0.000536 \t TEST LOSS: 0.000764 \t TIME: 1.576min\n",
      "EPOCH 459/1000 \t TRAIN LOSS: 0.000529 \t TEST LOSS: 0.000675 \t TIME: 1.572min\n",
      "EPOCH 460/1000 \t TRAIN LOSS: 0.000527 \t TEST LOSS: 0.000817 \t TIME: 1.568min\n",
      "EPOCH 461/1000 \t TRAIN LOSS: 0.000556 \t TEST LOSS: 0.000787 \t TIME: 1.568min\n",
      "EPOCH 462/1000 \t TRAIN LOSS: 0.00054 \t TEST LOSS: 0.00079 \t TIME: 1.59min\n",
      "EPOCH 463/1000 \t TRAIN LOSS: 0.000602 \t TEST LOSS: 0.000831 \t TIME: 1.567min\n",
      "EPOCH 464/1000 \t TRAIN LOSS: 0.000505 \t TEST LOSS: 0.000751 \t TIME: 1.59min\n",
      "EPOCH 465/1000 \t TRAIN LOSS: 0.000522 \t TEST LOSS: 0.000791 \t TIME: 1.583min\n",
      "EPOCH 466/1000 \t TRAIN LOSS: 0.000491 \t TEST LOSS: 0.000733 \t TIME: 1.588min\n",
      "EPOCH 467/1000 \t TRAIN LOSS: 0.000539 \t TEST LOSS: 0.000762 \t TIME: 1.573min\n",
      "EPOCH 468/1000 \t TRAIN LOSS: 0.000562 \t TEST LOSS: 0.000769 \t TIME: 1.581min\n",
      "EPOCH 469/1000 \t TRAIN LOSS: 0.000529 \t TEST LOSS: 0.000707 \t TIME: 1.589min\n",
      "EPOCH 470/1000 \t TRAIN LOSS: 0.000538 \t TEST LOSS: 0.000799 \t TIME: 1.577min\n",
      "EPOCH 471/1000 \t TRAIN LOSS: 0.00054 \t TEST LOSS: 0.000742 \t TIME: 1.595min\n",
      "EPOCH 472/1000 \t TRAIN LOSS: 0.000519 \t TEST LOSS: 0.000737 \t TIME: 1.578min\n",
      "EPOCH 473/1000 \t TRAIN LOSS: 0.000524 \t TEST LOSS: 0.000762 \t TIME: 1.564min\n",
      "EPOCH 474/1000 \t TRAIN LOSS: 0.000529 \t TEST LOSS: 0.000876 \t TIME: 1.575min\n",
      "EPOCH 475/1000 \t TRAIN LOSS: 0.000539 \t TEST LOSS: 0.000763 \t TIME: 1.583min\n",
      "EPOCH 476/1000 \t TRAIN LOSS: 0.00055 \t TEST LOSS: 0.000832 \t TIME: 1.587min\n",
      "EPOCH 477/1000 \t TRAIN LOSS: 0.000536 \t TEST LOSS: 0.000842 \t TIME: 1.58min\n",
      "EPOCH 478/1000 \t TRAIN LOSS: 0.000548 \t TEST LOSS: 0.000822 \t TIME: 1.58min\n",
      "EPOCH 479/1000 \t TRAIN LOSS: 0.000524 \t TEST LOSS: 0.000862 \t TIME: 1.6min\n",
      "EPOCH 480/1000 \t TRAIN LOSS: 0.000522 \t TEST LOSS: 0.000751 \t TIME: 1.58min\n",
      "EPOCH 481/1000 \t TRAIN LOSS: 0.000516 \t TEST LOSS: 0.000679 \t TIME: 1.594min\n",
      "EPOCH 482/1000 \t TRAIN LOSS: 0.000528 \t TEST LOSS: 0.000722 \t TIME: 1.602min\n",
      "EPOCH 483/1000 \t TRAIN LOSS: 0.00058 \t TEST LOSS: 0.000748 \t TIME: 1.598min\n",
      "EPOCH 484/1000 \t TRAIN LOSS: 0.000497 \t TEST LOSS: 0.000674 \t TIME: 1.57min\n",
      "EPOCH 485/1000 \t TRAIN LOSS: 0.000483 \t TEST LOSS: 0.000712 \t TIME: 1.584min\n",
      "EPOCH 486/1000 \t TRAIN LOSS: 0.000502 \t TEST LOSS: 0.000757 \t TIME: 1.59min\n",
      "EPOCH 487/1000 \t TRAIN LOSS: 0.000509 \t TEST LOSS: 0.000687 \t TIME: 1.57min\n",
      "EPOCH 488/1000 \t TRAIN LOSS: 0.000487 \t TEST LOSS: 0.000866 \t TIME: 1.577min\n",
      "EPOCH 489/1000 \t TRAIN LOSS: 0.000475 \t TEST LOSS: 0.00072 \t TIME: 1.576min\n",
      "EPOCH 490/1000 \t TRAIN LOSS: 0.000515 \t TEST LOSS: 0.000775 \t TIME: 1.579min\n",
      "EPOCH 491/1000 \t TRAIN LOSS: 0.000532 \t TEST LOSS: 0.000785 \t TIME: 1.586min\n",
      "EPOCH 492/1000 \t TRAIN LOSS: 0.000481 \t TEST LOSS: 0.000742 \t TIME: 1.581min\n",
      "EPOCH 493/1000 \t TRAIN LOSS: 0.000523 \t TEST LOSS: 0.000765 \t TIME: 1.593min\n",
      "EPOCH 494/1000 \t TRAIN LOSS: 0.000479 \t TEST LOSS: 0.000791 \t TIME: 1.57min\n",
      "EPOCH 495/1000 \t TRAIN LOSS: 0.000527 \t TEST LOSS: 0.000668 \t TIME: 1.578min\n",
      "EPOCH 496/1000 \t TRAIN LOSS: 0.000559 \t TEST LOSS: 0.000685 \t TIME: 1.581min\n",
      "EPOCH 497/1000 \t TRAIN LOSS: 0.000537 \t TEST LOSS: 0.000647 \t TIME: 1.576min\n",
      "EPOCH 498/1000 \t TRAIN LOSS: 0.000508 \t TEST LOSS: 0.000742 \t TIME: 1.586min\n",
      "EPOCH 499/1000 \t TRAIN LOSS: 0.000511 \t TEST LOSS: 0.000795 \t TIME: 1.583min\n",
      "EPOCH 500/1000 \t TRAIN LOSS: 0.00052 \t TEST LOSS: 0.000706 \t TIME: 1.595min\n",
      "EPOCH 501/1000 \t TRAIN LOSS: 0.000558 \t TEST LOSS: 0.000711 \t TIME: 1.584min\n",
      "EPOCH 502/1000 \t TRAIN LOSS: 0.000523 \t TEST LOSS: 0.0007 \t TIME: 1.597min\n",
      "EPOCH 503/1000 \t TRAIN LOSS: 0.00051 \t TEST LOSS: 0.000756 \t TIME: 1.6min\n",
      "EPOCH 504/1000 \t TRAIN LOSS: 0.000532 \t TEST LOSS: 0.000707 \t TIME: 1.589min\n",
      "EPOCH 505/1000 \t TRAIN LOSS: 0.000541 \t TEST LOSS: 0.00077 \t TIME: 1.562min\n",
      "EPOCH 506/1000 \t TRAIN LOSS: 0.000499 \t TEST LOSS: 0.000694 \t TIME: 1.604min\n",
      "EPOCH 507/1000 \t TRAIN LOSS: 0.000542 \t TEST LOSS: 0.000737 \t TIME: 1.588min\n",
      "EPOCH 508/1000 \t TRAIN LOSS: 0.000567 \t TEST LOSS: 0.000809 \t TIME: 1.6min\n",
      "EPOCH 509/1000 \t TRAIN LOSS: 0.000515 \t TEST LOSS: 0.000711 \t TIME: 1.592min\n",
      "EPOCH 510/1000 \t TRAIN LOSS: 0.000495 \t TEST LOSS: 0.000611 \t TIME: 1.573min\n",
      "EPOCH 511/1000 \t TRAIN LOSS: 0.000504 \t TEST LOSS: 0.000761 \t TIME: 1.573min\n",
      "EPOCH 512/1000 \t TRAIN LOSS: 0.000503 \t TEST LOSS: 0.000708 \t TIME: 1.579min\n",
      "EPOCH 513/1000 \t TRAIN LOSS: 0.000495 \t TEST LOSS: 0.00071 \t TIME: 1.588min\n",
      "EPOCH 514/1000 \t TRAIN LOSS: 0.000517 \t TEST LOSS: 0.000756 \t TIME: 1.57min\n",
      "EPOCH 515/1000 \t TRAIN LOSS: 0.000516 \t TEST LOSS: 0.000702 \t TIME: 1.594min\n",
      "EPOCH 516/1000 \t TRAIN LOSS: 0.000547 \t TEST LOSS: 0.000671 \t TIME: 1.583min\n",
      "EPOCH 517/1000 \t TRAIN LOSS: 0.000558 \t TEST LOSS: 0.000761 \t TIME: 1.596min\n",
      "EPOCH 518/1000 \t TRAIN LOSS: 0.000491 \t TEST LOSS: 0.000734 \t TIME: 1.601min\n",
      "EPOCH 519/1000 \t TRAIN LOSS: 0.000512 \t TEST LOSS: 0.000698 \t TIME: 1.599min\n",
      "EPOCH 520/1000 \t TRAIN LOSS: 0.0005 \t TEST LOSS: 0.000765 \t TIME: 1.6min\n",
      "EPOCH 521/1000 \t TRAIN LOSS: 0.000485 \t TEST LOSS: 0.000768 \t TIME: 1.6min\n",
      "EPOCH 522/1000 \t TRAIN LOSS: 0.000473 \t TEST LOSS: 0.000683 \t TIME: 1.598min\n",
      "EPOCH 523/1000 \t TRAIN LOSS: 0.000497 \t TEST LOSS: 0.000669 \t TIME: 1.599min\n",
      "EPOCH 524/1000 \t TRAIN LOSS: 0.000502 \t TEST LOSS: 0.000811 \t TIME: 1.603min\n",
      "EPOCH 525/1000 \t TRAIN LOSS: 0.000522 \t TEST LOSS: 0.000813 \t TIME: 1.603min\n",
      "EPOCH 526/1000 \t TRAIN LOSS: 0.000499 \t TEST LOSS: 0.000819 \t TIME: 1.605min\n",
      "EPOCH 527/1000 \t TRAIN LOSS: 0.000486 \t TEST LOSS: 0.000786 \t TIME: 1.607min\n",
      "EPOCH 528/1000 \t TRAIN LOSS: 0.000502 \t TEST LOSS: 0.000713 \t TIME: 1.604min\n",
      "EPOCH 529/1000 \t TRAIN LOSS: 0.000518 \t TEST LOSS: 0.000906 \t TIME: 1.593min\n",
      "EPOCH 530/1000 \t TRAIN LOSS: 0.000524 \t TEST LOSS: 0.000738 \t TIME: 1.562min\n",
      "EPOCH 531/1000 \t TRAIN LOSS: 0.000514 \t TEST LOSS: 0.000787 \t TIME: 1.591min\n",
      "EPOCH 532/1000 \t TRAIN LOSS: 0.000488 \t TEST LOSS: 0.000701 \t TIME: 1.596min\n",
      "EPOCH 533/1000 \t TRAIN LOSS: 0.000466 \t TEST LOSS: 0.000817 \t TIME: 1.584min\n",
      "EPOCH 534/1000 \t TRAIN LOSS: 0.000457 \t TEST LOSS: 0.000778 \t TIME: 1.568min\n",
      "EPOCH 535/1000 \t TRAIN LOSS: 0.000528 \t TEST LOSS: 0.000797 \t TIME: 1.584min\n",
      "EPOCH 536/1000 \t TRAIN LOSS: 0.000509 \t TEST LOSS: 0.000739 \t TIME: 1.555min\n",
      "EPOCH 537/1000 \t TRAIN LOSS: 0.000479 \t TEST LOSS: 0.00077 \t TIME: 1.568min\n",
      "EPOCH 538/1000 \t TRAIN LOSS: 0.000447 \t TEST LOSS: 0.000741 \t TIME: 1.579min\n",
      "EPOCH 539/1000 \t TRAIN LOSS: 0.000498 \t TEST LOSS: 0.000751 \t TIME: 1.564min\n",
      "EPOCH 540/1000 \t TRAIN LOSS: 0.000473 \t TEST LOSS: 0.00074 \t TIME: 1.568min\n",
      "EPOCH 541/1000 \t TRAIN LOSS: 0.000535 \t TEST LOSS: 0.000695 \t TIME: 1.568min\n",
      "EPOCH 542/1000 \t TRAIN LOSS: 0.000514 \t TEST LOSS: 0.000703 \t TIME: 1.592min\n",
      "EPOCH 543/1000 \t TRAIN LOSS: 0.000562 \t TEST LOSS: 0.000813 \t TIME: 1.591min\n",
      "EPOCH 544/1000 \t TRAIN LOSS: 0.000484 \t TEST LOSS: 0.000805 \t TIME: 1.59min\n",
      "EPOCH 545/1000 \t TRAIN LOSS: 0.000487 \t TEST LOSS: 0.000763 \t TIME: 1.556min\n",
      "EPOCH 546/1000 \t TRAIN LOSS: 0.000507 \t TEST LOSS: 0.000821 \t TIME: 1.573min\n",
      "EPOCH 547/1000 \t TRAIN LOSS: 0.000508 \t TEST LOSS: 0.000773 \t TIME: 1.578min\n",
      "EPOCH 548/1000 \t TRAIN LOSS: 0.000459 \t TEST LOSS: 0.000815 \t TIME: 1.582min\n",
      "EPOCH 549/1000 \t TRAIN LOSS: 0.000487 \t TEST LOSS: 0.000799 \t TIME: 1.587min\n",
      "EPOCH 550/1000 \t TRAIN LOSS: 0.000503 \t TEST LOSS: 0.000707 \t TIME: 1.565min\n",
      "EPOCH 551/1000 \t TRAIN LOSS: 0.000475 \t TEST LOSS: 0.000774 \t TIME: 1.588min\n",
      "EPOCH 552/1000 \t TRAIN LOSS: 0.000499 \t TEST LOSS: 0.000706 \t TIME: 1.593min\n",
      "EPOCH 553/1000 \t TRAIN LOSS: 0.000526 \t TEST LOSS: 0.000741 \t TIME: 1.585min\n",
      "EPOCH 554/1000 \t TRAIN LOSS: 0.000466 \t TEST LOSS: 0.000668 \t TIME: 1.586min\n",
      "EPOCH 555/1000 \t TRAIN LOSS: 0.000443 \t TEST LOSS: 0.000725 \t TIME: 1.594min\n",
      "EPOCH 556/1000 \t TRAIN LOSS: 0.000464 \t TEST LOSS: 0.000712 \t TIME: 1.581min\n",
      "EPOCH 557/1000 \t TRAIN LOSS: 0.000479 \t TEST LOSS: 0.000838 \t TIME: 1.593min\n",
      "EPOCH 558/1000 \t TRAIN LOSS: 0.000467 \t TEST LOSS: 0.000738 \t TIME: 1.583min\n",
      "EPOCH 559/1000 \t TRAIN LOSS: 0.000523 \t TEST LOSS: 0.000729 \t TIME: 1.582min\n",
      "EPOCH 560/1000 \t TRAIN LOSS: 0.000483 \t TEST LOSS: 0.000752 \t TIME: 1.583min\n",
      "EPOCH 561/1000 \t TRAIN LOSS: 0.000525 \t TEST LOSS: 0.000775 \t TIME: 1.572min\n",
      "EPOCH 562/1000 \t TRAIN LOSS: 0.000501 \t TEST LOSS: 0.000664 \t TIME: 1.559min\n",
      "EPOCH 563/1000 \t TRAIN LOSS: 0.000481 \t TEST LOSS: 0.000651 \t TIME: 1.585min\n",
      "EPOCH 564/1000 \t TRAIN LOSS: 0.000426 \t TEST LOSS: 0.000763 \t TIME: 1.558min\n",
      "EPOCH 565/1000 \t TRAIN LOSS: 0.000458 \t TEST LOSS: 0.000748 \t TIME: 1.579min\n",
      "EPOCH 566/1000 \t TRAIN LOSS: 0.000454 \t TEST LOSS: 0.000765 \t TIME: 1.583min\n",
      "EPOCH 567/1000 \t TRAIN LOSS: 0.000481 \t TEST LOSS: 0.000657 \t TIME: 1.568min\n",
      "EPOCH 568/1000 \t TRAIN LOSS: 0.000473 \t TEST LOSS: 0.000763 \t TIME: 1.578min\n",
      "EPOCH 569/1000 \t TRAIN LOSS: 0.000498 \t TEST LOSS: 0.000732 \t TIME: 1.565min\n",
      "EPOCH 570/1000 \t TRAIN LOSS: 0.000473 \t TEST LOSS: 0.000704 \t TIME: 1.583min\n",
      "EPOCH 571/1000 \t TRAIN LOSS: 0.000494 \t TEST LOSS: 0.000732 \t TIME: 1.588min\n",
      "EPOCH 572/1000 \t TRAIN LOSS: 0.00051 \t TEST LOSS: 0.000649 \t TIME: 1.584min\n",
      "EPOCH 573/1000 \t TRAIN LOSS: 0.000487 \t TEST LOSS: 0.000639 \t TIME: 1.586min\n",
      "EPOCH 574/1000 \t TRAIN LOSS: 0.0005 \t TEST LOSS: 0.000643 \t TIME: 1.569min\n",
      "EPOCH 575/1000 \t TRAIN LOSS: 0.000493 \t TEST LOSS: 0.000758 \t TIME: 1.581min\n",
      "EPOCH 576/1000 \t TRAIN LOSS: 0.00049 \t TEST LOSS: 0.000657 \t TIME: 1.6min\n",
      "EPOCH 577/1000 \t TRAIN LOSS: 0.000479 \t TEST LOSS: 0.000651 \t TIME: 1.59min\n",
      "EPOCH 578/1000 \t TRAIN LOSS: 0.00048 \t TEST LOSS: 0.000705 \t TIME: 1.574min\n",
      "EPOCH 579/1000 \t TRAIN LOSS: 0.000466 \t TEST LOSS: 0.000713 \t TIME: 1.59min\n",
      "EPOCH 580/1000 \t TRAIN LOSS: 0.000476 \t TEST LOSS: 0.000737 \t TIME: 1.579min\n",
      "EPOCH 581/1000 \t TRAIN LOSS: 0.000505 \t TEST LOSS: 0.000802 \t TIME: 1.59min\n",
      "EPOCH 582/1000 \t TRAIN LOSS: 0.000476 \t TEST LOSS: 0.000816 \t TIME: 1.576min\n",
      "EPOCH 583/1000 \t TRAIN LOSS: 0.00045 \t TEST LOSS: 0.000801 \t TIME: 1.588min\n"
     ]
    },
    {
     "ename": "KeyboardInterrupt",
     "evalue": "",
     "output_type": "error",
     "traceback": [
      "\u001b[0;31m---------------------------------------------------------------------------\u001b[0m",
      "\u001b[0;31mKeyboardInterrupt\u001b[0m                         Traceback (most recent call last)",
      "Cell \u001b[0;32mIn[36], line 5\u001b[0m\n\u001b[1;32m      2\u001b[0m \u001b[38;5;28;01mfor\u001b[39;00m epoch \u001b[38;5;129;01min\u001b[39;00m \u001b[38;5;28mrange\u001b[39m(epochs):\n\u001b[1;32m      3\u001b[0m     \u001b[38;5;66;03m# Training model\u001b[39;00m\n\u001b[1;32m      4\u001b[0m     tic \u001b[38;5;241m=\u001b[39m time\u001b[38;5;241m.\u001b[39mtime()\n\u001b[0;32m----> 5\u001b[0m     train_loss \u001b[38;5;241m=\u001b[39m \u001b[43mtrain_epoch\u001b[49m\u001b[43m(\u001b[49m\u001b[43mmodel\u001b[49m\u001b[43m,\u001b[49m\u001b[43m \u001b[49m\u001b[43mtrain_loader\u001b[49m\u001b[43m,\u001b[49m\u001b[43m \u001b[49m\u001b[43mloss_fn\u001b[49m\u001b[43m,\u001b[49m\u001b[43m \u001b[49m\u001b[43moptimizer\u001b[49m\u001b[43m,\u001b[49m\u001b[43m \u001b[49m\u001b[43mscheduler\u001b[49m\u001b[43m,\u001b[49m\u001b[43m \u001b[49m\u001b[43mdevice\u001b[49m\u001b[43m)\u001b[49m\n\u001b[1;32m      6\u001b[0m     test_loss  \u001b[38;5;241m=\u001b[39m test_epoch(model, test_loader, loss_fn, device)\n\u001b[1;32m      7\u001b[0m     scheduler\u001b[38;5;241m.\u001b[39mstep(test_loss)\n",
      "Cell \u001b[0;32mIn[9], line 16\u001b[0m, in \u001b[0;36mtrain_epoch\u001b[0;34m(model, dataloader, loss_fn, optimizer, scheduler, device)\u001b[0m\n\u001b[1;32m     14\u001b[0m     loss\u001b[38;5;241m.\u001b[39mbackward()\n\u001b[1;32m     15\u001b[0m     optimizer\u001b[38;5;241m.\u001b[39mstep()\n\u001b[0;32m---> 16\u001b[0m     train_loss \u001b[38;5;241m+\u001b[39m\u001b[38;5;241m=\u001b[39m \u001b[43mloss\u001b[49m\u001b[38;5;241;43m.\u001b[39;49m\u001b[43mitem\u001b[49m\u001b[43m(\u001b[49m\u001b[43m)\u001b[49m\n\u001b[1;32m     17\u001b[0m \u001b[38;5;28;01mreturn\u001b[39;00m train_loss \u001b[38;5;241m/\u001b[39m \u001b[38;5;28mlen\u001b[39m(dataloader\u001b[38;5;241m.\u001b[39mdataset)\n",
      "\u001b[0;31mKeyboardInterrupt\u001b[0m: "
     ]
    }
   ],
   "source": [
    "init = time.time()\n",
    "for epoch in range(epochs):\n",
    "    # Training model\n",
    "    tic = time.time()\n",
    "    train_loss = train_epoch(model, train_loader, loss_fn, optimizer, scheduler, device)\n",
    "    test_loss  = test_epoch(model, test_loader, loss_fn, device)\n",
    "    scheduler.step(test_loss)\n",
    "    toc = time.time()\n",
    "    print(f'EPOCH {epoch+1}/{epochs} \\t TRAIN LOSS: {round(train_loss,6)} \\t TEST LOSS: {round(test_loss,6)} \\t TIME: {round((toc-tic)/60,3)}min')\n",
    "    \n",
    "    # Saving best weights\n",
    "    if test_loss < best_loss:\n",
    "        best_loss = test_loss\n",
    "        \n",
    "        torch.save({\n",
    "            'epoch':epoch,\n",
    "            'test_loss':test_loss,\n",
    "            'lr':scheduler.state_dict()[\"_last_lr\"][0],\n",
    "            'model_state_dict':model.state_dict(),\n",
    "            'optimizer_state_dict':optimizer.state_dict()\n",
    "        }, '../checkpoints/' + tag + '/' + 'weights.pt')\n",
    "        \n",
    "    train_losses.append(train_loss)\n",
    "    test_losses.append(test_loss)\n",
    "    \n",
    "    # Previewing test data\n",
    "    if epoch % 10 == 0:\n",
    "        path = '../checkpoints/' + tag + '/Images/'\n",
    "        lr = scheduler.state_dict()[\"_last_lr\"][0]\n",
    "        preview(model,preview_loader,device,path,epoch,lr,show=False)\n",
    "\n",
    "endd = time.time()\n",
    "print(f'Total training time: {round((endd-init)/60,3)}min')"
   ]
  },
  {
   "cell_type": "code",
   "execution_count": 37,
   "id": "f8b02878-b2eb-4a92-87c0-280e046eae84",
   "metadata": {},
   "outputs": [],
   "source": [
    "torch.save({'train_losses':train_losses,'test_losses':test_losses}, '../checkpoints/' + tag + '/' + 'losses.pt')"
   ]
  },
  {
   "cell_type": "code",
   "execution_count": 38,
   "id": "47102452-528a-4676-bd0c-6dcfa3ea76a4",
   "metadata": {
    "tags": []
   },
   "outputs": [
    {
     "data": {
      "image/png": "[encoded data removed]",
      "text/plain": [
       "<Figure size 960x720 with 1 Axes>"
      ]
     },
     "metadata": {},
     "output_type": "display_data"
    }
   ],
   "source": [
    "plt.plot(train_losses,'b',label='train')\n",
    "plt.plot(test_losses,'r',label='test')\n",
    "plt.legend()\n",
    "plt.title('Losses')\n",
    "plt.show();"
   ]
  },
  {
   "cell_type": "code",
   "execution_count": 39,
   "id": "1465c988-b174-4a0b-805f-d5f4adc1b3b0",
   "metadata": {},
   "outputs": [
    {
     "data": {
      "text/plain": [
       "<All keys matched successfully>"
      ]
     },
     "execution_count": 39,
     "metadata": {},
     "output_type": "execute_result"
    }
   ],
   "source": [
    "pretrained = torch.load('../checkpoints/' + tag + '/weights.pt')\n",
    "# pretrained.keys()+ '/weights.pt')\n",
    "model.load_state_dict(pretrained['model_state_dict'])"
   ]
  },
  {
   "cell_type": "code",
   "execution_count": 40,
   "id": "3ab4aebb-dfdc-4e61-9e4b-1fd3c0426fdd",
   "metadata": {
    "tags": []
   },
   "outputs": [],
   "source": [
    "path = '../checkpoints/' + tag + '/'\n",
    "preview(model,preview_loader,device,path,pretrained['epoch'],pretrained['lr'],show=False)"
   ]
  },
  {
   "cell_type": "markdown",
   "id": "a3907496-c352-4f26-8344-63a89fb143f9",
   "metadata": {},
   "source": [
    "## Checking validation data"
   ]
  },
  {
   "cell_type": "code",
   "execution_count": 41,
   "id": "de5520d3-f063-4d8d-a4ef-c7c6c0eca2c5",
   "metadata": {
    "tags": []
   },
   "outputs": [],
   "source": [
    "losses = torch.load('../checkpoints/' + tag + '/losses.pt')"
   ]
  },
  {
   "cell_type": "code",
   "execution_count": 42,
   "id": "9244288c-ef1e-4648-9d95-5332127e6330",
   "metadata": {
    "tags": []
   },
   "outputs": [
    {
     "data": {
      "image/png": "[encoded data removed]",
      "text/plain": [
       "<Figure size 960x720 with 1 Axes>"
      ]
     },
     "metadata": {},
     "output_type": "display_data"
    }
   ],
   "source": [
    "plt.plot(losses['train_losses'],'b',label='Train')\n",
    "plt.plot(losses['test_losses'],'r',label='Test')\n",
    "plt.legend(fancybox=False)\n",
    "plt.xlabel('Epochs')\n",
    "plt.ylabel('$m^2/s^2$')\n",
    "plt.grid(linestyle=':')\n",
    "plt.ylim(top=0.05)\n",
    "plt.xlim(right=1000)\n",
    "plt.savefig('../checkpoints/' + tag + '/losses.png')\n",
    "plt.show();"
   ]
  },
  {
   "cell_type": "code",
   "execution_count": 43,
   "id": "f5f1aab2-6113-42aa-80d0-858c962a6f35",
   "metadata": {
    "tags": []
   },
   "outputs": [
    {
     "name": "stdout",
     "output_type": "stream",
     "text": [
      ">>> Found 1 files in the selected directory. Building dataset...\n"
     ]
    },
    {
     "name": "stderr",
     "output_type": "stream",
     "text": [
      "100%|█████████████████████████████████████████████| 1/1 [00:04<00:00,  4.86s/it]\n"
     ]
    }
   ],
   "source": [
    "valid_data = RadarDataset('../synched/fl_V0/valid/', seq_len=seq_len, px=px, py=py, pz=pz, rx=rx, ry=ry, rz=rz, augment=False, transform=t)"
   ]
  },
  {
   "cell_type": "code",
   "execution_count": 44,
   "id": "0a7d0c1c-167b-4a13-a851-dd28faa849cf",
   "metadata": {
    "tags": []
   },
   "outputs": [
    {
     "data": {
      "text/plain": [
       "9180"
      ]
     },
     "execution_count": 44,
     "metadata": {},
     "output_type": "execute_result"
    }
   ],
   "source": [
    "len(valid_data)"
   ]
  },
  {
   "cell_type": "code",
   "execution_count": 45,
   "id": "b0976699-afe1-436b-b770-a456a774bdad",
   "metadata": {
    "tags": []
   },
   "outputs": [],
   "source": [
    "valid_loader = DataLoader(valid_data, batch_size=1, drop_last=False, shuffle=False, pin_memory=True, num_workers=4)"
   ]
  },
  {
   "cell_type": "code",
   "execution_count": 46,
   "id": "834fb76d-e735-4e74-a539-f15173b8220b",
   "metadata": {
    "tags": []
   },
   "outputs": [
    {
     "data": {
      "image/png": "[encoded data removed]",
      "text/plain": [
       "<Figure size 1920x720 with 1 Axes>"
      ]
     },
     "metadata": {},
     "output_type": "display_data"
    }
   ],
   "source": [
    "path = '../checkpoints/' + tag + '/'\n",
    "lr = pretrained['lr']\n",
    "epoch = 9999\n",
    "preview(model,valid_loader,device,path,epoch,lr,show=True)"
   ]
  },
  {
   "cell_type": "code",
   "execution_count": null,
   "id": "5e221d05-535a-491e-a66b-55555dc98a6c",
   "metadata": {},
   "outputs": [],
   "source": []
  }
 ],
 "metadata": {
  "kernelspec": {
   "display_name": "Python 3 (ipykernel)",
   "language": "python",
   "name": "python3"
  },
  "language_info": {
   "codemirror_mode": {
    "name": "ipython",
    "version": 3
   },
   "file_extension": ".py",
   "mimetype": "text/x-python",
   "name": "python",
   "nbconvert_exporter": "python",
   "pygments_lexer": "ipython3",
   "version": "3.10.11"
  }
 },
 "nbformat": 4,
 "nbformat_minor": 5
}
