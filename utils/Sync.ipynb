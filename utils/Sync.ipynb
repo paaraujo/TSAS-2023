{
 "cells": [
  {
   "cell_type": "code",
   "execution_count": 1,
   "id": "dc9f3d4a-2fac-4345-ac72-98abbb1ed8e4",
   "metadata": {
    "tags": []
   },
   "outputs": [
    {
     "name": "stderr",
     "output_type": "stream",
     "text": [
      "/tmp/ipykernel_33482/2035716161.py:10: TqdmWarning: IProgress not found. Please update jupyter and ipywidgets. See https://ipywidgets.readthedocs.io/en/stable/user_install.html\n",
      "  from tqdm.autonotebook import tqdm\n"
     ]
    }
   ],
   "source": [
    "import os\n",
    "import json\n",
    "import pickle\n",
    "import numpy as np\n",
    "import pandas as pd\n",
    "import matplotlib.pyplot as plt\n",
    "\n",
    "from math import isclose, ceil, floor\n",
    "from statistics import mean\n",
    "from tqdm.autonotebook import tqdm\n",
    "plt.rcParams['figure.dpi'] = 150"
   ]
  },
  {
   "cell_type": "code",
   "execution_count": 2,
   "id": "465305d6-0d22-4f77-a688-9e04c81bfe0c",
   "metadata": {
    "tags": []
   },
   "outputs": [],
   "source": [
    "%matplotlib qt"
   ]
  },
  {
   "cell_type": "code",
   "execution_count": 3,
   "id": "fd7ea681-4fb5-4779-ba8d-a2c1515e21e5",
   "metadata": {
    "tags": []
   },
   "outputs": [],
   "source": [
    "search_path = '../data/'\n",
    "_, dirs, _ = next(os.walk(search_path))"
   ]
  },
  {
   "cell_type": "code",
   "execution_count": 4,
   "id": "d8ef8eb7-647f-4954-bdc2-b1b3c125b030",
   "metadata": {
    "tags": []
   },
   "outputs": [
    {
     "data": {
      "text/plain": [
       "['2022-05-16-10-31-07',\n",
       " '2022-05-16-11-02-59',\n",
       " '2022-09-05-16-29-36',\n",
       " '2022-09-06-12-25-01',\n",
       " '2022-09-06-12-55-08',\n",
       " '2022-09-06-17-33-51',\n",
       " '2022-09-06-18-42-00',\n",
       " '2022-09-06-20-30-16',\n",
       " '2022-09-16-15-21-02',\n",
       " '2022-09-16-16-05-43']"
      ]
     },
     "execution_count": 4,
     "metadata": {},
     "output_type": "execute_result"
    }
   ],
   "source": [
    "dirs = sorted(dirs)\n",
    "dirs"
   ]
  },
  {
   "cell_type": "code",
   "execution_count": 5,
   "id": "c953f183-0f58-41b6-b177-73fac1931a52",
   "metadata": {
    "tags": []
   },
   "outputs": [],
   "source": [
    "sensors = ['rear_left'] # 'front_right','front_left','rear_right','rear_left'"
   ]
  },
  {
   "cell_type": "code",
   "execution_count": 6,
   "id": "ce13f784-76dc-4e44-9d76-66517b6b5705",
   "metadata": {
    "tags": []
   },
   "outputs": [
    {
     "name": "stderr",
     "output_type": "stream",
     "text": [
      "100%|███████████████████████████████████████████| 10/10 [03:03<00:00, 20.89s/it]"
     ]
    }
   ],
   "source": [
    "pbar = tqdm(total=len(dirs))\n",
    "for d in dirs:\n",
    "    ref = pd.read_csv(search_path + d + '/inspva.csv')\n",
    "    ref['speed'] = np.sqrt(np.square(ref.loc[:,'east_velocity'].to_numpy()) +\n",
    "                           np.square(ref.loc[:,'north_velocity'].to_numpy()) +\n",
    "                           np.square(ref.loc[:,'up_velocity'].to_numpy()))\n",
    "    ref.loc[:,'Time'] = ref.loc[:,'header.stamp.secs'] + ref.loc[:,'header.stamp.nsecs'] * 1e-9\n",
    "    ref_time = ref['Time'].to_numpy() \n",
    "    \n",
    "    for sensor in sensors:\n",
    "        data = []\n",
    "        s = pd.read_csv(search_path + d + '/' + sensor + '.csv')\n",
    "        dummy = [[20.,20.,0.,0.,0.,0.]]\n",
    "        \n",
    "        # Syncing with reference time\n",
    "        grouped = s.groupby(['Time'], sort=True)    \n",
    "        for t in grouped.groups.keys():\n",
    "            group = grouped.get_group(t)\n",
    "            temp = np.abs(ref_time - t)\n",
    "            id = np.argmin(temp)\n",
    "            if temp[id] < 0.02:\n",
    "                if group.shape[0] >= 3:\n",
    "                    data.append([t, group.loc[:,['x','y','z','rcs','snr','speed']].values.tolist(), ref['speed'].iat[id]])\n",
    "                # else:\n",
    "                #     data.append([t, dummy, 1e-3])\n",
    "        \n",
    "        # Finding gaps in the data\n",
    "        timestamps = []\n",
    "        hz = []\n",
    "        for i in range(1,len(data)):\n",
    "            curr_t, _, _ = data[i]\n",
    "            prev_t, _, _ = data[i-1]\n",
    "            dt = curr_t - prev_t\n",
    "            if isclose(dt, 0.05, abs_tol=0.01):\n",
    "                hz.append(dt)\n",
    "            timestamps.append(prev_t)\n",
    "            if i == len(data)-1:\n",
    "                timestamps.append(curr_t)\n",
    "                \n",
    "        # Creating continuous timeline\n",
    "        init_t = timestamps[0]\n",
    "        end_t  = timestamps[-1]\n",
    "        step = mean(hz)\n",
    "        timeline = np.arange(init_t,end_t+step,step)\n",
    "        \n",
    "        # Indexes for augmenting dataset\n",
    "        valid = np.zeros((timeline.shape[0],3))\n",
    "        valid[:,0] = timeline\n",
    "        for i, t in enumerate(timestamps):\n",
    "            temp = np.abs(timeline - t)\n",
    "            id = np.argmin(temp)\n",
    "            if isclose(timeline[id],t,abs_tol=0.01):\n",
    "                valid[id,1:] = [1,i]\n",
    "                \n",
    "        # Augmenting the dataset\n",
    "        augmented = []\n",
    "        for i in range(valid.shape[0]):\n",
    "            t,status,idx = valid[i,:]\n",
    "            status = int(status)\n",
    "            idx = int(idx)\n",
    "            if status:\n",
    "                _, curr_radar, curr_ref = data[idx]\n",
    "                augmented.append([t,curr_radar,curr_ref,status])\n",
    "            else:\n",
    "                augmented.append([t, dummy, 1e-3, status])\n",
    "        \n",
    "        # Saving text file\n",
    "        with open('../synched/rl_v1/' + d + '-' + sensor + '.txt', 'w') as fp:\n",
    "            augmented = sorted(augmented, key=lambda x: x[0])\n",
    "            for dt in augmented:\n",
    "                fp.write(str(dt)+'\\n')\n",
    "    \n",
    "    pbar.update(n=1)"
   ]
  },
  {
   "cell_type": "code",
   "execution_count": null,
   "id": "85168e5f-b240-4d8a-9785-a2f5c9b39708",
   "metadata": {
    "tags": []
   },
   "outputs": [],
   "source": []
  }
 ],
 "metadata": {
  "kernelspec": {
   "display_name": "Python 3 (ipykernel)",
   "language": "python",
   "name": "python3"
  },
  "language_info": {
   "codemirror_mode": {
    "name": "ipython",
    "version": 3
   },
   "file_extension": ".py",
   "mimetype": "text/x-python",
   "name": "python",
   "nbconvert_exporter": "python",
   "pygments_lexer": "ipython3",
   "version": "3.10.11"
  }
 },
 "nbformat": 4,
 "nbformat_minor": 5
}
