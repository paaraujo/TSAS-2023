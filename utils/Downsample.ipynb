{
 "cells": [
  {
   "cell_type": "markdown",
   "metadata": {},
   "source": [
    "> This notebook downsample the IMU in a monotonically way."
   ]
  },
  {
   "cell_type": "markdown",
   "metadata": {},
   "source": [
    "## Python Packages"
   ]
  },
  {
   "cell_type": "code",
   "execution_count": 1,
   "metadata": {
    "id": "_p3WL-vRhDQI",
    "tags": []
   },
   "outputs": [],
   "source": [
    "import os\n",
    "import pathlib\n",
    "import random\n",
    "import numpy as np\n",
    "import pandas as pd\n",
    "import matplotlib.pyplot as plt"
   ]
  },
  {
   "cell_type": "markdown",
   "metadata": {
    "id": "tbQc3NHCn9Wu"
   },
   "source": [
    "## Prepare data"
   ]
  },
  {
   "cell_type": "code",
   "execution_count": 2,
   "metadata": {
    "colab": {
     "base_uri": "https://localhost:8080/"
    },
    "executionInfo": {
     "elapsed": 1023,
     "status": "ok",
     "timestamp": 1678300908620,
     "user": {
      "displayName": "Eslam Mounier",
      "userId": "00115647850048379606"
     },
     "user_tz": 300
    },
    "id": "A9niX6hehP7Y",
    "outputId": "3c856868-a609-48b7-ced6-4c6b89aa534f",
    "tags": []
   },
   "outputs": [],
   "source": [
    "dirs = ['../data/2022-09-05-16-29-36', '../data/2022-09-06-12-55-08']"
   ]
  },
  {
   "cell_type": "code",
   "execution_count": 7,
   "metadata": {
    "tags": []
   },
   "outputs": [],
   "source": [
    "step = 1/50"
   ]
  },
  {
   "cell_type": "code",
   "execution_count": 8,
   "metadata": {
    "tags": []
   },
   "outputs": [],
   "source": [
    "for d in dirs:    \n",
    "    # CAM\n",
    "    try:\n",
    "        df_imu = pd.read_csv(os.path.join('../data', d, 'zedFC-zed_front_center-imu-data_raw.csv'), usecols=['Time','linear_acceleration.x','linear_acceleration.y','linear_acceleration.z','angular_velocity.x','angular_velocity.y','angular_velocity.z'])\n",
    "        s = df_imu['Time'].min()\n",
    "        e = df_imu['Time'].max()\n",
    "        timeline = np.arange(s, e, step) \n",
    "        fx = np.interp(timeline, df_imu['Time'].values, df_imu['linear_acceleration.x'])\n",
    "        fy = np.interp(timeline, df_imu['Time'].values, df_imu['linear_acceleration.y'])\n",
    "        fz = np.interp(timeline, df_imu['Time'].values, df_imu['linear_acceleration.z'])\n",
    "        wx = np.interp(timeline, df_imu['Time'].values, df_imu['angular_velocity.x'])\n",
    "        wy = np.interp(timeline, df_imu['Time'].values, df_imu['angular_velocity.y'])\n",
    "        wz = np.interp(timeline, df_imu['Time'].values, df_imu['angular_velocity.z'])\n",
    "        df_imu_new = pd.DataFrame({'Time':timeline,'linear_acceleration.x':fx,'linear_acceleration.y':fy,'linear_acceleration.z':fz,'angular_velocity.x':wx,'angular_velocity.y':wy,'angular_velocity.z':wz})\n",
    "        df_imu_new.to_csv(os.path.join(d, 'imu.csv'), index=False)\n",
    "    except:\n",
    "        print(f'Trajectory \"{d}\" does not contain CAM data.')"
   ]
  },
  {
   "cell_type": "code",
   "execution_count": null,
   "metadata": {},
   "outputs": [],
   "source": []
  }
 ],
 "metadata": {
  "colab": {
   "provenance": [
    {
     "file_id": "11WkIrRxBs_2t6piyof2WFl_AGvtxP4aa",
     "timestamp": 1678212646745
    },
    {
     "file_id": "15vENvsJlFDj82AihBYWnPn-gGa0ySVgG",
     "timestamp": 1659972574872
    }
   ]
  },
  "gpuClass": "standard",
  "kernelspec": {
   "display_name": "Python 3 (ipykernel)",
   "language": "python",
   "name": "python3"
  },
  "language_info": {
   "codemirror_mode": {
    "name": "ipython",
    "version": 3
   },
   "file_extension": ".py",
   "mimetype": "text/x-python",
   "name": "python",
   "nbconvert_exporter": "python",
   "pygments_lexer": "ipython3",
   "version": "3.10.11"
  }
 },
 "nbformat": 4,
 "nbformat_minor": 4
}
