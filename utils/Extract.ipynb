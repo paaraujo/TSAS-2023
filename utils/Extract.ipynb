{
 "cells": [
  {
   "cell_type": "markdown",
   "id": "c812adf6-d341-4c35-b9ae-0f0326b37b06",
   "metadata": {
    "tags": []
   },
   "source": [
    "## Importing Python Packages"
   ]
  },
  {
   "cell_type": "code",
   "execution_count": 1,
   "id": "f520d295-78db-4030-a8a7-fe371a055b82",
   "metadata": {
    "tags": []
   },
   "outputs": [
    {
     "name": "stderr",
     "output_type": "stream",
     "text": [
      "/tmp/ipykernel_51185/3061207847.py:15: TqdmWarning: IProgress not found. Please update jupyter and ipywidgets. See https://ipywidgets.readthedocs.io/en/stable/user_install.html\n",
      "  from tqdm.autonotebook import tqdm;\n"
     ]
    }
   ],
   "source": [
    "import os\n",
    "import pathlib\n",
    "import time\n",
    "import torch\n",
    "import random\n",
    "import torch.nn as nn\n",
    "import numpy as np\n",
    "import matplotlib.pyplot as plt\n",
    "import pandas as pd\n",
    "\n",
    "from sklearn.metrics import mean_squared_error\n",
    "from torch.utils.data import Dataset, DataLoader\n",
    "from torchvision import transforms\n",
    "from torchinfo import summary\n",
    "from tqdm.autonotebook import tqdm;\n",
    "\n",
    "plt.rcParams['figure.dpi'] = 150\n",
    "plt.rcParams.update({\n",
    "    \"text.usetex\": True,\n",
    "    \"font.family\": \"serif\"\n",
    "})"
   ]
  },
  {
   "cell_type": "code",
   "execution_count": 2,
   "id": "f237f02f-7021-42b8-8f43-e8b5081f91dd",
   "metadata": {
    "tags": []
   },
   "outputs": [],
   "source": [
    "tag = '2023-04-10-06-58-41-RadarNet-Short-V0'"
   ]
  },
  {
   "cell_type": "markdown",
   "id": "cb3d31cb-fa0f-4cbc-bc20-5524569f5961",
   "metadata": {
    "jp-MarkdownHeadingCollapsed": true,
    "tags": []
   },
   "source": [
    "## RadarPCL Model"
   ]
  },
  {
   "cell_type": "code",
   "execution_count": 3,
   "id": "29e2f51f-4711-49b3-8eea-b3e4d1b565a8",
   "metadata": {
    "tags": []
   },
   "outputs": [],
   "source": [
    "class RadarPCL(nn.Module):\n",
    "    \n",
    "    def __init__(self,seq_len=4):\n",
    "        super(RadarPCL, self).__init__()\n",
    "        self.seq_len = seq_len\n",
    "        self.conv_top = nn.Sequential(\n",
    "            self._conv(4, 64, 7, 1, 0, 4, 1),\n",
    "            self._conv(64, 64, 7, 1, 0, 4, 1),\n",
    "            self._conv(64, 64, 7, 1, 0, 4, 1),\n",
    "            self._conv(64, 64, 7, 1, 0, 4, 1),\n",
    "        )\n",
    "        self.conv_front = nn.Sequential(\n",
    "            self._conv(4, 64, 7, 1, 0, 4, 1),\n",
    "            self._conv(64, 64, 7, 1, 0, 4, 1),\n",
    "            self._conv(64, 64, 7, 1, 0, 4, 1),\n",
    "            self._conv(64, 64, 7, 1, 0, 4, 1),\n",
    "        )\n",
    "        self.linear_top = nn.Sequential(\n",
    "            nn.Linear(4*4*64, 512, bias=False),\n",
    "            nn.BatchNorm1d(512),\n",
    "            nn.GELU(),\n",
    "            nn.Linear(512, 256, bias=False),\n",
    "            nn.BatchNorm1d(256),\n",
    "            nn.GELU(),\n",
    "            nn.Linear(256, 128, bias=False),\n",
    "            nn.BatchNorm1d(128),\n",
    "            nn.GELU(),\n",
    "            nn.Linear(128, 64, bias=False),\n",
    "            nn.BatchNorm1d(64),\n",
    "            nn.GELU(),\n",
    "            nn.Linear(64, 32, bias=False),\n",
    "            nn.BatchNorm1d(32),\n",
    "            nn.GELU(),\n",
    "            nn.Linear(32, 16, bias=False),\n",
    "            nn.BatchNorm1d(16),\n",
    "            nn.GELU(),\n",
    "            nn.Linear(16, 8, bias=False),\n",
    "            nn.BatchNorm1d(8),\n",
    "            nn.GELU(),\n",
    "            nn.Linear(8, 4, bias=False),\n",
    "            nn.BatchNorm1d(4),\n",
    "            nn.GELU(),\n",
    "            nn.Linear(4, 2, bias=False),\n",
    "            nn.BatchNorm1d(2),\n",
    "            nn.GELU(),\n",
    "            nn.Linear(2, 1, bias=False),\n",
    "            nn.BatchNorm1d(1),\n",
    "            nn.GELU()\n",
    "        )\n",
    "        self.linear_front = nn.Sequential(\n",
    "            nn.Linear(4*4*64, 512, bias=False),\n",
    "            nn.BatchNorm1d(512),\n",
    "            nn.GELU(),\n",
    "            nn.Linear(512, 256, bias=False),\n",
    "            nn.BatchNorm1d(256),\n",
    "            nn.GELU(),\n",
    "            nn.Linear(256, 128, bias=False),\n",
    "            nn.BatchNorm1d(128),\n",
    "            nn.GELU(),\n",
    "            nn.Linear(128, 64, bias=False),\n",
    "            nn.BatchNorm1d(64),\n",
    "            nn.GELU(),\n",
    "            nn.Linear(64, 32, bias=False),\n",
    "            nn.BatchNorm1d(32),\n",
    "            nn.GELU(),\n",
    "            nn.Linear(32, 16, bias=False),\n",
    "            nn.BatchNorm1d(16),\n",
    "            nn.GELU(),\n",
    "            nn.Linear(16, 8, bias=False),\n",
    "            nn.BatchNorm1d(8),\n",
    "            nn.GELU(),\n",
    "            nn.Linear(8, 4, bias=False),\n",
    "            nn.BatchNorm1d(4),\n",
    "            nn.GELU(),\n",
    "            nn.Linear(4, 2, bias=False),\n",
    "            nn.BatchNorm1d(2),\n",
    "            nn.GELU(),\n",
    "            nn.Linear(2, 1, bias=False),\n",
    "            nn.BatchNorm1d(1),\n",
    "            nn.GELU()\n",
    "        )\n",
    "        \n",
    "    def _conv(self, in_channel, out_channel, kernel_size, stride, padding, dilation, groups):\n",
    "        return nn.Sequential(\n",
    "            nn.Conv2d(in_channel, out_channel, kernel_size=kernel_size, stride=stride, padding=padding, dilation=dilation, groups=groups, bias=False),\n",
    "            nn.BatchNorm2d(out_channel),\n",
    "            nn.GELU()\n",
    "        )\n",
    "    \n",
    "    def forward(self, I_top, I_front):\n",
    "        batch_size = I_top.size(0)\n",
    "        # Top-View\n",
    "        x_top = self.conv_top(I_top)\n",
    "        x_top = x_top.view(batch_size, -1)\n",
    "        x_top = self.linear_top(x_top)\n",
    "        # Front-View\n",
    "        x_front = self.conv_front(I_front)\n",
    "        x_front = x_front.view(batch_size, -1)\n",
    "        x_front = self.linear_front(x_front)\n",
    "        # Adding speed components\n",
    "        x = x_top + x_front\n",
    "        return x"
   ]
  },
  {
   "cell_type": "code",
   "execution_count": 4,
   "id": "905f343f-5da9-4c57-be8b-dc403cfc9e11",
   "metadata": {
    "tags": []
   },
   "outputs": [],
   "source": [
    "seq_len = 1"
   ]
  },
  {
   "cell_type": "code",
   "execution_count": 5,
   "id": "c0c4c8d4-c252-4105-b273-f21086763dce",
   "metadata": {
    "tags": []
   },
   "outputs": [],
   "source": [
    "model = RadarPCL(seq_len=seq_len)"
   ]
  },
  {
   "cell_type": "code",
   "execution_count": 6,
   "id": "bed388f1-9769-4bb1-a2c6-81a3b9889744",
   "metadata": {
    "tags": []
   },
   "outputs": [
    {
     "name": "stderr",
     "output_type": "stream",
     "text": [
      "/home/paulo/.pyenv/versions/venv.3.10.11/lib/python3.10/site-packages/torchinfo/torchinfo.py:477: UserWarning: TypedStorage is deprecated. It will be removed in the future and UntypedStorage will be the only storage class. This should only matter to you if you are using storages directly.  To access UntypedStorage directly, use tensor.untyped_storage() instead of tensor.storage()\n",
      "  action_fn=lambda data: sys.getsizeof(data.storage()),\n",
      "/home/paulo/.pyenv/versions/venv.3.10.11/lib/python3.10/site-packages/torch/storage.py:665: UserWarning: TypedStorage is deprecated. It will be removed in the future and UntypedStorage will be the only storage class. This should only matter to you if you are using storages directly.  To access UntypedStorage directly, use tensor.untyped_storage() instead of tensor.storage()\n",
      "  return super().__sizeof__() + self.nbytes()\n"
     ]
    },
    {
     "data": {
      "text/plain": [
       "==========================================================================================\n",
       "Layer (type:depth-idx)                   Output Shape              Param #\n",
       "==========================================================================================\n",
       "RadarPCL                                 [1, 1]                    --\n",
       "├─Sequential: 1-1                        [1, 64, 4, 4]             --\n",
       "│    └─Sequential: 2-1                   [1, 64, 76, 76]           --\n",
       "│    │    └─Conv2d: 3-1                  [1, 64, 76, 76]           12,544\n",
       "│    │    └─BatchNorm2d: 3-2             [1, 64, 76, 76]           128\n",
       "│    │    └─GELU: 3-3                    [1, 64, 76, 76]           --\n",
       "│    └─Sequential: 2-2                   [1, 64, 52, 52]           --\n",
       "│    │    └─Conv2d: 3-4                  [1, 64, 52, 52]           200,704\n",
       "│    │    └─BatchNorm2d: 3-5             [1, 64, 52, 52]           128\n",
       "│    │    └─GELU: 3-6                    [1, 64, 52, 52]           --\n",
       "│    └─Sequential: 2-3                   [1, 64, 28, 28]           --\n",
       "│    │    └─Conv2d: 3-7                  [1, 64, 28, 28]           200,704\n",
       "│    │    └─BatchNorm2d: 3-8             [1, 64, 28, 28]           128\n",
       "│    │    └─GELU: 3-9                    [1, 64, 28, 28]           --\n",
       "│    └─Sequential: 2-4                   [1, 64, 4, 4]             --\n",
       "│    │    └─Conv2d: 3-10                 [1, 64, 4, 4]             200,704\n",
       "│    │    └─BatchNorm2d: 3-11            [1, 64, 4, 4]             128\n",
       "│    │    └─GELU: 3-12                   [1, 64, 4, 4]             --\n",
       "├─Sequential: 1-2                        [1, 1]                    --\n",
       "│    └─Linear: 2-5                       [1, 512]                  524,288\n",
       "│    └─BatchNorm1d: 2-6                  [1, 512]                  1,024\n",
       "│    └─GELU: 2-7                         [1, 512]                  --\n",
       "│    └─Linear: 2-8                       [1, 256]                  131,072\n",
       "│    └─BatchNorm1d: 2-9                  [1, 256]                  512\n",
       "│    └─GELU: 2-10                        [1, 256]                  --\n",
       "│    └─Linear: 2-11                      [1, 128]                  32,768\n",
       "│    └─BatchNorm1d: 2-12                 [1, 128]                  256\n",
       "│    └─GELU: 2-13                        [1, 128]                  --\n",
       "│    └─Linear: 2-14                      [1, 64]                   8,192\n",
       "│    └─BatchNorm1d: 2-15                 [1, 64]                   128\n",
       "│    └─GELU: 2-16                        [1, 64]                   --\n",
       "│    └─Linear: 2-17                      [1, 32]                   2,048\n",
       "│    └─BatchNorm1d: 2-18                 [1, 32]                   64\n",
       "│    └─GELU: 2-19                        [1, 32]                   --\n",
       "│    └─Linear: 2-20                      [1, 16]                   512\n",
       "│    └─BatchNorm1d: 2-21                 [1, 16]                   32\n",
       "│    └─GELU: 2-22                        [1, 16]                   --\n",
       "│    └─Linear: 2-23                      [1, 8]                    128\n",
       "│    └─BatchNorm1d: 2-24                 [1, 8]                    16\n",
       "│    └─GELU: 2-25                        [1, 8]                    --\n",
       "│    └─Linear: 2-26                      [1, 4]                    32\n",
       "│    └─BatchNorm1d: 2-27                 [1, 4]                    8\n",
       "│    └─GELU: 2-28                        [1, 4]                    --\n",
       "│    └─Linear: 2-29                      [1, 2]                    8\n",
       "│    └─BatchNorm1d: 2-30                 [1, 2]                    4\n",
       "│    └─GELU: 2-31                        [1, 2]                    --\n",
       "│    └─Linear: 2-32                      [1, 1]                    2\n",
       "│    └─BatchNorm1d: 2-33                 [1, 1]                    2\n",
       "│    └─GELU: 2-34                        [1, 1]                    --\n",
       "├─Sequential: 1-3                        [1, 64, 4, 4]             --\n",
       "│    └─Sequential: 2-35                  [1, 64, 76, 76]           --\n",
       "│    │    └─Conv2d: 3-13                 [1, 64, 76, 76]           12,544\n",
       "│    │    └─BatchNorm2d: 3-14            [1, 64, 76, 76]           128\n",
       "│    │    └─GELU: 3-15                   [1, 64, 76, 76]           --\n",
       "│    └─Sequential: 2-36                  [1, 64, 52, 52]           --\n",
       "│    │    └─Conv2d: 3-16                 [1, 64, 52, 52]           200,704\n",
       "│    │    └─BatchNorm2d: 3-17            [1, 64, 52, 52]           128\n",
       "│    │    └─GELU: 3-18                   [1, 64, 52, 52]           --\n",
       "│    └─Sequential: 2-37                  [1, 64, 28, 28]           --\n",
       "│    │    └─Conv2d: 3-19                 [1, 64, 28, 28]           200,704\n",
       "│    │    └─BatchNorm2d: 3-20            [1, 64, 28, 28]           128\n",
       "│    │    └─GELU: 3-21                   [1, 64, 28, 28]           --\n",
       "│    └─Sequential: 2-38                  [1, 64, 4, 4]             --\n",
       "│    │    └─Conv2d: 3-22                 [1, 64, 4, 4]             200,704\n",
       "│    │    └─BatchNorm2d: 3-23            [1, 64, 4, 4]             128\n",
       "│    │    └─GELU: 3-24                   [1, 64, 4, 4]             --\n",
       "├─Sequential: 1-4                        [1, 1]                    --\n",
       "│    └─Linear: 2-39                      [1, 512]                  524,288\n",
       "│    └─BatchNorm1d: 2-40                 [1, 512]                  1,024\n",
       "│    └─GELU: 2-41                        [1, 512]                  --\n",
       "│    └─Linear: 2-42                      [1, 256]                  131,072\n",
       "│    └─BatchNorm1d: 2-43                 [1, 256]                  512\n",
       "│    └─GELU: 2-44                        [1, 256]                  --\n",
       "│    └─Linear: 2-45                      [1, 128]                  32,768\n",
       "│    └─BatchNorm1d: 2-46                 [1, 128]                  256\n",
       "│    └─GELU: 2-47                        [1, 128]                  --\n",
       "│    └─Linear: 2-48                      [1, 64]                   8,192\n",
       "│    └─BatchNorm1d: 2-49                 [1, 64]                   128\n",
       "│    └─GELU: 2-50                        [1, 64]                   --\n",
       "│    └─Linear: 2-51                      [1, 32]                   2,048\n",
       "│    └─BatchNorm1d: 2-52                 [1, 32]                   64\n",
       "│    └─GELU: 2-53                        [1, 32]                   --\n",
       "│    └─Linear: 2-54                      [1, 16]                   512\n",
       "│    └─BatchNorm1d: 2-55                 [1, 16]                   32\n",
       "│    └─GELU: 2-56                        [1, 16]                   --\n",
       "│    └─Linear: 2-57                      [1, 8]                    128\n",
       "│    └─BatchNorm1d: 2-58                 [1, 8]                    16\n",
       "│    └─GELU: 2-59                        [1, 8]                    --\n",
       "│    └─Linear: 2-60                      [1, 4]                    32\n",
       "│    └─BatchNorm1d: 2-61                 [1, 4]                    8\n",
       "│    └─GELU: 2-62                        [1, 4]                    --\n",
       "│    └─Linear: 2-63                      [1, 2]                    8\n",
       "│    └─BatchNorm1d: 2-64                 [1, 2]                    4\n",
       "│    └─GELU: 2-65                        [1, 2]                    --\n",
       "│    └─Linear: 2-66                      [1, 1]                    2\n",
       "│    └─BatchNorm1d: 2-67                 [1, 1]                    2\n",
       "│    └─GELU: 2-68                        [1, 1]                    --\n",
       "==========================================================================================\n",
       "Total params: 2,632,528\n",
       "Trainable params: 2,632,528\n",
       "Non-trainable params: 0\n",
       "Total mult-adds (G): 1.55\n",
       "==========================================================================================\n",
       "Input size (MB): 0.32\n",
       "Forward/backward pass size (MB): 19.04\n",
       "Params size (MB): 10.53\n",
       "Estimated Total Size (MB): 29.89\n",
       "=========================================================================================="
      ]
     },
     "execution_count": 6,
     "metadata": {},
     "output_type": "execute_result"
    }
   ],
   "source": [
    "summary(model, input_size=[(1, 4, 100, 100),(1, 4, 100, 100)])"
   ]
  },
  {
   "cell_type": "markdown",
   "id": "e8a6f712-1fd2-4510-af1b-d85f8aed39b0",
   "metadata": {
    "jp-MarkdownHeadingCollapsed": true,
    "tags": []
   },
   "source": [
    "## Dataset Class"
   ]
  },
  {
   "cell_type": "code",
   "execution_count": 7,
   "id": "654b5f87-5664-4a08-bd58-d79d515fe8a3",
   "metadata": {
    "tags": []
   },
   "outputs": [],
   "source": [
    "class RadarDataset(Dataset):\n",
    "    \n",
    "    def __init__(self, path, seq_len=1, px=150, py=150, pz=150, rx=19.3*2, ry=19.3, rz=10., dAzi=15., dElev=15., dRoll=15., augment=True, transform=None):\n",
    "        super(RadarDataset, self).__init__()\n",
    "        \n",
    "        self.path = path\n",
    "        self.seq_len = seq_len\n",
    "        self.px = px\n",
    "        self.py = py\n",
    "        self.pz = pz\n",
    "        self.rx = rx\n",
    "        self.ry = ry\n",
    "        self.rz = rz\n",
    "        self.dAzi = dAzi\n",
    "        self.dElev = dElev\n",
    "        self.dRoll = dRoll\n",
    "        self.augment = augment\n",
    "        self.transform = transform\n",
    "        \n",
    "        _, _, files = next(os.walk(path))\n",
    "        print(f'>>> Found {len(files)} files in the selected directory. Building dataset...')\n",
    "        pbar = tqdm(total=len(files))\n",
    "        \n",
    "        self.offset_dict = {}\n",
    "        self.length = 0\n",
    "        pathlib.Path(self.path + 'Processed').mkdir(parents=True, exist_ok=True)\n",
    "    \n",
    "        # Creating unified file to optimize RAM\n",
    "        with open(self.path + 'Processed/unified-seq.txt', 'w') as u:\n",
    "            for file in files:\n",
    "                with open(self.path + file, 'r') as f:\n",
    "                    # Data is a list(timestamp, list(detections), speed)\n",
    "                    data = f.read().splitlines()\n",
    "                    for i in range(seq_len-1, len(data)):\n",
    "                        group = []\n",
    "                        status = []\n",
    "                        for j in range(i, i - seq_len, -1):\n",
    "                            # Evaluating current line\n",
    "                            curr = eval(data[j])\n",
    "                            group.append([curr[0],curr[1],curr[2]])\n",
    "                            status.append(curr[3])\n",
    "                        # Saving data in a unified file if it contains at least one valid scan\n",
    "                        if status[0] > 0:\n",
    "                            self.offset_dict[self.length] = u.tell()\n",
    "                            u.write(str(group)+'\\n')\n",
    "                            self.length += 1\n",
    "                pbar.update(n=1)\n",
    "            \n",
    "        \n",
    "    def __len__(self):\n",
    "        return len(self.offset_dict)\n",
    "    \n",
    "\n",
    "    def __getitem__(self, id):\n",
    "        # Reading data on demand\n",
    "        offset = self.offset_dict[id]\n",
    "        with open(self.path + 'Processed/unified-seq.txt', 'r', encoding='utf-8') as f:\n",
    "            f.seek(offset)\n",
    "            line = f.readline()\n",
    "            # Processing recovered data\n",
    "            group = eval(line)\n",
    "            # Computing random angles to be used in the sequence\n",
    "            dAzi = random.uniform(-self.dAzi,self.dAzi) * np.pi/180.\n",
    "            dElev = random.uniform(-self.dElev,self.dElev) * np.pi/180.\n",
    "            dRoll = random.uniform(-self.dRoll,self.dRoll) * np.pi/180.\n",
    "            # Lists to store the sequence of data\n",
    "            I_top_scans = []\n",
    "            I_front_scans = []\n",
    "            curr_speed = 0.\n",
    "            for i, (t, data, speed) in enumerate(group):\n",
    "                data = np.array(data)\n",
    "                # Augmenting data\n",
    "                if self.augment:\n",
    "                    data = self._rotate(data, dAzi, dElev, dRoll)\n",
    "                # We normalize the position vector to get speed components\n",
    "                n = data[:,:3] / np.expand_dims(np.linalg.norm(data[:,:3], axis=1), axis=1)\n",
    "                speed_xyz = n * np.expand_dims(data[:,5],axis=1)\n",
    "                # Preparing tensors\n",
    "                I_top = self._top(np.copy(data), speed_xyz, px=self.px, py=self.py, rx=self.rx, ry=self.ry)\n",
    "                I_top = self.transform(I_top)\n",
    "                I_front = self._front(np.copy(data), speed_xyz, px=self.px, pz=self.pz, rx=self.rx, rz=self.rz)\n",
    "                I_front = self.transform(I_front)\n",
    "                I_top_scans.append(I_top)\n",
    "                I_front_scans.append(I_front)\n",
    "                if i == 0:\n",
    "                    curr_speed = speed\n",
    "            I_top_scans = torch.cat(I_top_scans, dim=0)\n",
    "            I_front_scans = torch.cat(I_front_scans, dim=0)\n",
    "            speeds = torch.FloatTensor([curr_speed])\n",
    "        return t, I_top_scans, I_front_scans, speeds\n",
    "    \n",
    "    \n",
    "    def _rotate(self, data, dAzi, dElev, dRoll):\n",
    "        ''' data has columns in the following order: x, y, z, rcs, snr, speed '''\n",
    "        # Rotating points\n",
    "        Rz = np.array([[np.cos(dAzi), -np.sin(dAzi), 0.],\n",
    "                       [np.sin(dAzi), np.cos(dAzi), 0.],\n",
    "                       [0., 0., 1.]])\n",
    "        Ry = np.array([[np.cos(dElev), 0., np.sin(dElev)],\n",
    "                       [0., 1., 0.],\n",
    "                       [-np.sin(dElev), 0., np.cos(dElev)]])\n",
    "        Rx = np.array([[1., 0., 0.],\n",
    "                       [0., np.cos(dRoll), -np.sin(dRoll)],\n",
    "                       [0., np.sin(dRoll), np.cos(dRoll)]])\n",
    "        R = Rz @ Ry @ Rx\n",
    "        pts = data[:,:3].T\n",
    "        pts = R.dot(pts).T\n",
    "        data[:,:3] = pts\n",
    "        return data\n",
    "        \n",
    "    \n",
    "    def _top(self, P, speed_xyz, px, py, rx, ry):\n",
    "        ''' P has columns in the following order: x, y, z, rcs, snr, speed '''\n",
    "        # Adjusting coordinates from radar to image\n",
    "        P[:, [0,1]] = P[:, [1,0]]\n",
    "        P[:, 0] *= -1\n",
    "        I = np.zeros((py,px,4), dtype=np.float32)\n",
    "        T = np.zeros((P.shape[0],2), dtype=np.uint16)\n",
    "        # Computing mapped positions\n",
    "        T[:,1] = np.uint16(np.maximum(np.minimum((px/rx) * P[:,0] + (px/2), px-1), 0))    \n",
    "        T[:,0] = np.uint16(np.maximum(np.minimum((py/ry) * P[:,1], py-1), 0))\n",
    "        # Mapping the space to the first layer\n",
    "        I[T[:,0],T[:,1],0] = np.squeeze(P[:,2])\n",
    "        # Mapping the rcs to the second layer\n",
    "        I[T[:,0],T[:,1],1] = np.squeeze(P[:,3])\n",
    "        # Mapping the snr to the second layer\n",
    "        I[T[:,0],T[:,1],2] = np.squeeze(P[:,4])\n",
    "        # Mapping the speed to the forth layer\n",
    "        # In the top view, speed is composed by x and y\n",
    "        I[T[:,0],T[:,1],3] = np.squeeze(speed_xyz[:,0]+speed_xyz[:,1])\n",
    "        return I\n",
    "    \n",
    "    \n",
    "    def _front(self, P, speed_xyz, px, pz, rx, rz):\n",
    "        ''' P has columns in the following order: x, y, z, rcs, snr, speed '''\n",
    "        # Adjusting coordinates from radar to image\n",
    "        P[:, [0,1]] = P[:, [1,0]]\n",
    "        P[:, 0] *= -1\n",
    "        I = np.zeros((pz,px,4), dtype=np.float32)\n",
    "        T = np.zeros((P.shape[0],2), dtype=np.uint16)\n",
    "        # Computing mapped positions\n",
    "        T[:,1] = np.uint16(np.maximum(np.minimum((px/rx) * P[:,0] + (px/2), px-1), 0))    \n",
    "        T[:,0] = np.uint16(np.maximum(np.minimum((pz/rz) * P[:,2] + (pz/2), pz-1), 0))\n",
    "        # Mapping the space to the first layer\n",
    "        I[T[:,0],T[:,1],0] = np.squeeze(P[:,1])\n",
    "        # Mapping the rcs to the second layer\n",
    "        I[T[:,0],T[:,1],1] = np.squeeze(P[:,3])\n",
    "        # Mapping the snr to the second layer\n",
    "        I[T[:,0],T[:,1],2] = np.squeeze(P[:,4])\n",
    "        # Mapping the speed to the forth layer\n",
    "        # In the front view, speed is composed by z\n",
    "        I[T[:,0],T[:,1],3] = np.squeeze(speed_xyz[:,2])\n",
    "        return I"
   ]
  },
  {
   "cell_type": "markdown",
   "id": "5b312c94-4fcc-4b2b-b47e-819f66dc0baf",
   "metadata": {
    "tags": []
   },
   "source": [
    "## Functions"
   ]
  },
  {
   "cell_type": "code",
   "execution_count": 8,
   "id": "15419873-26d8-444f-9203-f3dd8b6dfbc7",
   "metadata": {
    "tags": []
   },
   "outputs": [],
   "source": [
    "def preview(model, dataloader, device, path, epoch, lr, show=False):\n",
    "    model.eval()\n",
    "    data = []\n",
    "    est_t = []\n",
    "    with torch.no_grad():\n",
    "        for t, I_top, I_front, speed in dataloader:\n",
    "            I_top = I_top.to(device=device)\n",
    "            I_front = I_front.to(device=device)\n",
    "            speed = speed.to(device=device)\n",
    "            tic = time.time()\n",
    "            y = model(I_top, I_front)\n",
    "            toc = time.time()\n",
    "            data.append([t.cpu().numpy()[0], speed.cpu().numpy()[0][0], y.cpu().numpy()[0][0]])\n",
    "            est_t.append(toc-tic)\n",
    "    data = np.array(data)\n",
    "    fig, ax = plt.subplots(figsize=[12.8, 4.8])\n",
    "    ax.plot(data[:,2], 'r', linewidth=0.5, label='$\\hat{\\mathbf{x}}$')\n",
    "    ax.plot(data[:,1], 'b', linewidth=0.75, label='$\\mathbf{x}$')\n",
    "    ax.set_xlabel('Samples')\n",
    "    ax.set_ylabel('m/s')\n",
    "    ax.legend(loc='upper left', fancybox=False)\n",
    "    ax.text(0, 1, f'LR = {lr}',\n",
    "        horizontalalignment='left',\n",
    "        verticalalignment='bottom',\n",
    "        transform=ax.transAxes)\n",
    "    ax.set_xlim([0,data.shape[0]])\n",
    "    plt.savefig(path + 'epoch_' + str(epoch).rjust(4, '0') + '.png')\n",
    "    if show:\n",
    "        plt.show()\n",
    "    plt.close(fig)\n",
    "    print(f'Mean inference time: {np.mean(est_t)} s')\n",
    "    print(f'RMSE: {mean_squared_error(data[:,1], data[:,2], squared=False)} m/s')\n",
    "    df = pd.DataFrame(data, columns=['Time','ref_speed','speed'])\n",
    "    return df"
   ]
  },
  {
   "cell_type": "markdown",
   "id": "72bb3e3a-09c5-47f4-ad38-4ef8ca389969",
   "metadata": {
    "tags": []
   },
   "source": [
    "## Extracting data"
   ]
  },
  {
   "cell_type": "code",
   "execution_count": 9,
   "id": "3e478747-4c86-4c7e-bb04-3155c665109d",
   "metadata": {
    "tags": []
   },
   "outputs": [],
   "source": [
    "t = transforms.Compose([transforms.ToTensor()])"
   ]
  },
  {
   "cell_type": "code",
   "execution_count": 10,
   "id": "ce1a74a1-e394-4708-b103-72060180bb60",
   "metadata": {
    "tags": []
   },
   "outputs": [],
   "source": [
    "px = 100\n",
    "py = 100\n",
    "pz = 100\n",
    "rx = 20. * 2\n",
    "ry = 20.\n",
    "rz = 15.\n",
    "dAzi = 15.\n",
    "dElev = 15.\n",
    "dRoll = 15."
   ]
  },
  {
   "cell_type": "code",
   "execution_count": 11,
   "id": "f38cb3f5-0928-4670-b69f-18b3b6701d41",
   "metadata": {
    "tags": []
   },
   "outputs": [],
   "source": [
    "model = RadarPCL(seq_len)"
   ]
  },
  {
   "cell_type": "markdown",
   "id": "07c34830-be1d-4b01-8f9e-b36858a5c56f",
   "metadata": {},
   "source": [
    "Loading weights"
   ]
  },
  {
   "cell_type": "code",
   "execution_count": 12,
   "id": "ce50fcdb-2b1e-40dd-b9ff-f86844f9abcb",
   "metadata": {
    "tags": []
   },
   "outputs": [
    {
     "data": {
      "text/plain": [
       "dict_keys(['epoch', 'test_loss', 'lr', 'model_state_dict', 'optimizer_state_dict'])"
      ]
     },
     "execution_count": 12,
     "metadata": {},
     "output_type": "execute_result"
    }
   ],
   "source": [
    "pretrained = torch.load('../checkpoints/' + tag + '/weights.pt', map_location=torch.device('cpu'))\n",
    "pretrained.keys()"
   ]
  },
  {
   "cell_type": "code",
   "execution_count": 13,
   "id": "12942232-5c8a-4256-8a4c-9b5f057527f6",
   "metadata": {
    "tags": []
   },
   "outputs": [
    {
     "data": {
      "text/plain": [
       "<All keys matched successfully>"
      ]
     },
     "execution_count": 13,
     "metadata": {},
     "output_type": "execute_result"
    }
   ],
   "source": [
    "model.load_state_dict(pretrained['model_state_dict'])"
   ]
  },
  {
   "cell_type": "code",
   "execution_count": 14,
   "id": "f5f1aab2-6113-42aa-80d0-858c962a6f35",
   "metadata": {
    "tags": []
   },
   "outputs": [
    {
     "name": "stdout",
     "output_type": "stream",
     "text": [
      ">>> Found 1 files in the selected directory. Building dataset...\n"
     ]
    },
    {
     "name": "stderr",
     "output_type": "stream",
     "text": [
      "100%|█████████████████████████████████████████████| 1/1 [00:05<00:00,  5.52s/it]\n"
     ]
    }
   ],
   "source": [
    "preview_data = RadarDataset('../synched/fr_V0/valid/', seq_len=seq_len, px=px, py=py, pz=pz, rx=rx, ry=ry, rz=rz, augment=False, transform=t)"
   ]
  },
  {
   "cell_type": "code",
   "execution_count": 15,
   "id": "0a7d0c1c-167b-4a13-a851-dd28faa849cf",
   "metadata": {
    "tags": []
   },
   "outputs": [
    {
     "data": {
      "text/plain": [
       "8860"
      ]
     },
     "execution_count": 15,
     "metadata": {},
     "output_type": "execute_result"
    }
   ],
   "source": [
    "len(preview_data)"
   ]
  },
  {
   "cell_type": "code",
   "execution_count": 16,
   "id": "b0976699-afe1-436b-b770-a456a774bdad",
   "metadata": {
    "tags": []
   },
   "outputs": [],
   "source": [
    "preview_loader = DataLoader(preview_data, batch_size=1, drop_last=False, shuffle=False)"
   ]
  },
  {
   "cell_type": "code",
   "execution_count": 17,
   "id": "834fb76d-e735-4e74-a539-f15173b8220b",
   "metadata": {
    "tags": []
   },
   "outputs": [
    {
     "data": {
      "image/png": "[encoded data removed]",
      "text/plain": [
       "<Figure size 1920x720 with 1 Axes>"
      ]
     },
     "metadata": {},
     "output_type": "display_data"
    },
    {
     "name": "stdout",
     "output_type": "stream",
     "text": [
      "Mean inference time: 0.005561493723979114 s\n",
      "RMSE: 0.9800584008925974 m/s\n"
     ]
    }
   ],
   "source": [
    "path = '../checkpoints/' + tag + '/'\n",
    "lr = pretrained['lr']\n",
    "epoch = pretrained['epoch']\n",
    "df = preview(model, preview_loader, 'cpu', path, epoch, lr, show=True)"
   ]
  },
  {
   "cell_type": "code",
   "execution_count": 18,
   "id": "a11ae1fb-23d6-47d1-ae24-9b2ec238e694",
   "metadata": {
    "tags": []
   },
   "outputs": [
    {
     "data": {
      "text/html": [
       "<div>\n",
       "<style scoped>\n",
       "    .dataframe tbody tr th:only-of-type {\n",
       "        vertical-align: middle;\n",
       "    }\n",
       "\n",
       "    .dataframe tbody tr th {\n",
       "        vertical-align: top;\n",
       "    }\n",
       "\n",
       "    .dataframe thead th {\n",
       "        text-align: right;\n",
       "    }\n",
       "</style>\n",
       "<table border=\"1\" class=\"dataframe\">\n",
       "  <thead>\n",
       "    <tr style=\"text-align: right;\">\n",
       "      <th></th>\n",
       "      <th>Time</th>\n",
       "      <th>ref_speed</th>\n",
       "      <th>speed</th>\n",
       "    </tr>\n",
       "  </thead>\n",
       "  <tbody>\n",
       "    <tr>\n",
       "      <th>0</th>\n",
       "      <td>1.662410e+09</td>\n",
       "      <td>0.010007</td>\n",
       "      <td>-0.014026</td>\n",
       "    </tr>\n",
       "    <tr>\n",
       "      <th>1</th>\n",
       "      <td>1.662410e+09</td>\n",
       "      <td>0.010338</td>\n",
       "      <td>0.028859</td>\n",
       "    </tr>\n",
       "    <tr>\n",
       "      <th>2</th>\n",
       "      <td>1.662410e+09</td>\n",
       "      <td>0.008816</td>\n",
       "      <td>0.043684</td>\n",
       "    </tr>\n",
       "    <tr>\n",
       "      <th>3</th>\n",
       "      <td>1.662410e+09</td>\n",
       "      <td>0.010154</td>\n",
       "      <td>0.028260</td>\n",
       "    </tr>\n",
       "    <tr>\n",
       "      <th>4</th>\n",
       "      <td>1.662410e+09</td>\n",
       "      <td>0.009261</td>\n",
       "      <td>0.077996</td>\n",
       "    </tr>\n",
       "  </tbody>\n",
       "</table>\n",
       "</div>"
      ],
      "text/plain": [
       "           Time  ref_speed     speed\n",
       "0  1.662410e+09   0.010007 -0.014026\n",
       "1  1.662410e+09   0.010338  0.028859\n",
       "2  1.662410e+09   0.008816  0.043684\n",
       "3  1.662410e+09   0.010154  0.028260\n",
       "4  1.662410e+09   0.009261  0.077996"
      ]
     },
     "execution_count": 18,
     "metadata": {},
     "output_type": "execute_result"
    }
   ],
   "source": [
    "df.head()"
   ]
  },
  {
   "cell_type": "code",
   "execution_count": 19,
   "id": "6c69783a-b7e4-42bd-91ea-a958ab65412c",
   "metadata": {
    "tags": []
   },
   "outputs": [],
   "source": [
    "df.to_csv('../processed/2022-09-05-16-29-36/front-right.csv', index=False)"
   ]
  },
  {
   "cell_type": "code",
   "execution_count": null,
   "id": "45dad7bf-f420-4cbc-b006-73a19eb882c5",
   "metadata": {},
   "outputs": [],
   "source": []
  }
 ],
 "metadata": {
  "kernelspec": {
   "display_name": "Python 3 (ipykernel)",
   "language": "python",
   "name": "python3"
  },
  "language_info": {
   "codemirror_mode": {
    "name": "ipython",
    "version": 3
   },
   "file_extension": ".py",
   "mimetype": "text/x-python",
   "name": "python",
   "nbconvert_exporter": "python",
   "pygments_lexer": "ipython3",
   "version": "3.10.11"
  }
 },
 "nbformat": 4,
 "nbformat_minor": 5
}
